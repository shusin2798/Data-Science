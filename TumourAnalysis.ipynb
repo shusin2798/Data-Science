{
 "cells": [
  {
   "cell_type": "code",
   "execution_count": 1,
   "metadata": {},
   "outputs": [],
   "source": [
    "import pandas as pd\n",
    "import numpy as np\n",
    "import seaborn as sns\n",
    "import matplotlib.pyplot as plt\n",
    "from sklearn.tree import plot_tree\n",
    "from matplotlib.pylab import rcParams\n",
    "\n",
    "from sklearn.model_selection import train_test_split\n",
    "from sklearn.preprocessing import StandardScaler\n",
    "from sklearn.model_selection import cross_val_predict,GridSearchCV,RandomizedSearchCV\n",
    "from sklearn.model_selection import KFold\n",
    "\n",
    "from sklearn import metrics\n",
    "from sklearn.metrics import confusion_matrix,accuracy_score,roc_auc_score,classification_report\n",
    "from sklearn.metrics import mean_absolute_error\n",
    "\n",
    "from sklearn.naive_bayes import GaussianNB\n",
    "from sklearn.neighbors import KNeighborsClassifier\n",
    "from sklearn.ensemble import RandomForestClassifier\n",
    "from sklearn.tree import DecisionTreeClassifier\n",
    "from sklearn.ensemble import ExtraTreesClassifier\n",
    "from sklearn.ensemble import BaggingClassifier\n",
    "from sklearn.ensemble import AdaBoostClassifier\n",
    "from sklearn.ensemble import RandomForestClassifier\n",
    "from sklearn.svm import SVC\n",
    "from sklearn.linear_model import LogisticRegression\n",
    "\n",
    "import tensorflow as tf\n",
    "from tensorflow import keras\n",
    "from tensorflow.keras import layers\n",
    "import keras_tuner as kt\n",
    "from keras.layers import Dense, Dropout\n",
    "from keras.models import Sequential"
   ]
  },
  {
   "cell_type": "code",
   "execution_count": 2,
   "metadata": {},
   "outputs": [],
   "source": [
    "df = pd.read_csv('Brain Tumor.csv')"
   ]
  },
  {
   "cell_type": "code",
   "execution_count": 3,
   "metadata": {},
   "outputs": [
    {
     "data": {
      "text/html": [
       "<div>\n",
       "<style scoped>\n",
       "    .dataframe tbody tr th:only-of-type {\n",
       "        vertical-align: middle;\n",
       "    }\n",
       "\n",
       "    .dataframe tbody tr th {\n",
       "        vertical-align: top;\n",
       "    }\n",
       "\n",
       "    .dataframe thead th {\n",
       "        text-align: right;\n",
       "    }\n",
       "</style>\n",
       "<table border=\"1\" class=\"dataframe\">\n",
       "  <thead>\n",
       "    <tr style=\"text-align: right;\">\n",
       "      <th></th>\n",
       "      <th>Image</th>\n",
       "      <th>Class</th>\n",
       "      <th>Mean</th>\n",
       "      <th>Variance</th>\n",
       "      <th>Standard Deviation</th>\n",
       "      <th>Entropy</th>\n",
       "      <th>Skewness</th>\n",
       "      <th>Kurtosis</th>\n",
       "      <th>Contrast</th>\n",
       "      <th>Energy</th>\n",
       "      <th>ASM</th>\n",
       "      <th>Homogeneity</th>\n",
       "      <th>Dissimilarity</th>\n",
       "      <th>Correlation</th>\n",
       "      <th>Coarseness</th>\n",
       "    </tr>\n",
       "  </thead>\n",
       "  <tbody>\n",
       "    <tr>\n",
       "      <th>0</th>\n",
       "      <td>Image1</td>\n",
       "      <td>0</td>\n",
       "      <td>6.535339</td>\n",
       "      <td>619.587845</td>\n",
       "      <td>24.891522</td>\n",
       "      <td>0.109059</td>\n",
       "      <td>4.276477</td>\n",
       "      <td>18.900575</td>\n",
       "      <td>98.613971</td>\n",
       "      <td>0.293314</td>\n",
       "      <td>0.086033</td>\n",
       "      <td>0.530941</td>\n",
       "      <td>4.473346</td>\n",
       "      <td>0.981939</td>\n",
       "      <td>7.458341e-155</td>\n",
       "    </tr>\n",
       "    <tr>\n",
       "      <th>1</th>\n",
       "      <td>Image2</td>\n",
       "      <td>0</td>\n",
       "      <td>8.749969</td>\n",
       "      <td>805.957634</td>\n",
       "      <td>28.389393</td>\n",
       "      <td>0.266538</td>\n",
       "      <td>3.718116</td>\n",
       "      <td>14.464618</td>\n",
       "      <td>63.858816</td>\n",
       "      <td>0.475051</td>\n",
       "      <td>0.225674</td>\n",
       "      <td>0.651352</td>\n",
       "      <td>3.220072</td>\n",
       "      <td>0.988834</td>\n",
       "      <td>7.458341e-155</td>\n",
       "    </tr>\n",
       "    <tr>\n",
       "      <th>2</th>\n",
       "      <td>Image3</td>\n",
       "      <td>1</td>\n",
       "      <td>7.341095</td>\n",
       "      <td>1143.808219</td>\n",
       "      <td>33.820234</td>\n",
       "      <td>0.001467</td>\n",
       "      <td>5.061750</td>\n",
       "      <td>26.479563</td>\n",
       "      <td>81.867206</td>\n",
       "      <td>0.031917</td>\n",
       "      <td>0.001019</td>\n",
       "      <td>0.268275</td>\n",
       "      <td>5.981800</td>\n",
       "      <td>0.978014</td>\n",
       "      <td>7.458341e-155</td>\n",
       "    </tr>\n",
       "    <tr>\n",
       "      <th>3</th>\n",
       "      <td>Image4</td>\n",
       "      <td>1</td>\n",
       "      <td>5.958145</td>\n",
       "      <td>959.711985</td>\n",
       "      <td>30.979219</td>\n",
       "      <td>0.001477</td>\n",
       "      <td>5.677977</td>\n",
       "      <td>33.428845</td>\n",
       "      <td>151.229741</td>\n",
       "      <td>0.032024</td>\n",
       "      <td>0.001026</td>\n",
       "      <td>0.243851</td>\n",
       "      <td>7.700919</td>\n",
       "      <td>0.964189</td>\n",
       "      <td>7.458341e-155</td>\n",
       "    </tr>\n",
       "    <tr>\n",
       "      <th>4</th>\n",
       "      <td>Image5</td>\n",
       "      <td>0</td>\n",
       "      <td>7.315231</td>\n",
       "      <td>729.540579</td>\n",
       "      <td>27.010009</td>\n",
       "      <td>0.146761</td>\n",
       "      <td>4.283221</td>\n",
       "      <td>19.079108</td>\n",
       "      <td>174.988756</td>\n",
       "      <td>0.343849</td>\n",
       "      <td>0.118232</td>\n",
       "      <td>0.501140</td>\n",
       "      <td>6.834689</td>\n",
       "      <td>0.972789</td>\n",
       "      <td>7.458341e-155</td>\n",
       "    </tr>\n",
       "  </tbody>\n",
       "</table>\n",
       "</div>"
      ],
      "text/plain": [
       "    Image  Class      Mean     Variance  Standard Deviation   Entropy  \\\n",
       "0  Image1      0  6.535339   619.587845           24.891522  0.109059   \n",
       "1  Image2      0  8.749969   805.957634           28.389393  0.266538   \n",
       "2  Image3      1  7.341095  1143.808219           33.820234  0.001467   \n",
       "3  Image4      1  5.958145   959.711985           30.979219  0.001477   \n",
       "4  Image5      0  7.315231   729.540579           27.010009  0.146761   \n",
       "\n",
       "   Skewness   Kurtosis    Contrast    Energy       ASM  Homogeneity  \\\n",
       "0  4.276477  18.900575   98.613971  0.293314  0.086033     0.530941   \n",
       "1  3.718116  14.464618   63.858816  0.475051  0.225674     0.651352   \n",
       "2  5.061750  26.479563   81.867206  0.031917  0.001019     0.268275   \n",
       "3  5.677977  33.428845  151.229741  0.032024  0.001026     0.243851   \n",
       "4  4.283221  19.079108  174.988756  0.343849  0.118232     0.501140   \n",
       "\n",
       "   Dissimilarity  Correlation     Coarseness  \n",
       "0       4.473346     0.981939  7.458341e-155  \n",
       "1       3.220072     0.988834  7.458341e-155  \n",
       "2       5.981800     0.978014  7.458341e-155  \n",
       "3       7.700919     0.964189  7.458341e-155  \n",
       "4       6.834689     0.972789  7.458341e-155  "
      ]
     },
     "execution_count": 3,
     "metadata": {},
     "output_type": "execute_result"
    }
   ],
   "source": [
    "df.head()"
   ]
  },
  {
   "cell_type": "code",
   "execution_count": 4,
   "metadata": {},
   "outputs": [
    {
     "data": {
      "text/plain": [
       "Index(['Image', 'Class', 'Mean', 'Variance', 'Standard Deviation', 'Entropy',\n",
       "       'Skewness', 'Kurtosis', 'Contrast', 'Energy', 'ASM', 'Homogeneity',\n",
       "       'Dissimilarity', 'Correlation', 'Coarseness'],\n",
       "      dtype='object')"
      ]
     },
     "execution_count": 4,
     "metadata": {},
     "output_type": "execute_result"
    }
   ],
   "source": [
    "df.columns"
   ]
  },
  {
   "cell_type": "code",
   "execution_count": 5,
   "metadata": {},
   "outputs": [
    {
     "data": {
      "text/html": [
       "<div>\n",
       "<style scoped>\n",
       "    .dataframe tbody tr th:only-of-type {\n",
       "        vertical-align: middle;\n",
       "    }\n",
       "\n",
       "    .dataframe tbody tr th {\n",
       "        vertical-align: top;\n",
       "    }\n",
       "\n",
       "    .dataframe thead th {\n",
       "        text-align: right;\n",
       "    }\n",
       "</style>\n",
       "<table border=\"1\" class=\"dataframe\">\n",
       "  <thead>\n",
       "    <tr style=\"text-align: right;\">\n",
       "      <th></th>\n",
       "      <th>Class</th>\n",
       "      <th>Mean</th>\n",
       "      <th>Variance</th>\n",
       "      <th>Standard Deviation</th>\n",
       "      <th>Entropy</th>\n",
       "      <th>Skewness</th>\n",
       "      <th>Kurtosis</th>\n",
       "      <th>Contrast</th>\n",
       "      <th>Energy</th>\n",
       "      <th>ASM</th>\n",
       "      <th>Homogeneity</th>\n",
       "      <th>Dissimilarity</th>\n",
       "      <th>Correlation</th>\n",
       "      <th>Coarseness</th>\n",
       "    </tr>\n",
       "  </thead>\n",
       "  <tbody>\n",
       "    <tr>\n",
       "      <th>count</th>\n",
       "      <td>3762.000000</td>\n",
       "      <td>3762.000000</td>\n",
       "      <td>3762.000000</td>\n",
       "      <td>3762.000000</td>\n",
       "      <td>3762.000000</td>\n",
       "      <td>3762.000000</td>\n",
       "      <td>3762.000000</td>\n",
       "      <td>3762.000000</td>\n",
       "      <td>3762.000000</td>\n",
       "      <td>3762.000000</td>\n",
       "      <td>3762.000000</td>\n",
       "      <td>3762.000000</td>\n",
       "      <td>3762.000000</td>\n",
       "      <td>3.762000e+03</td>\n",
       "    </tr>\n",
       "    <tr>\n",
       "      <th>mean</th>\n",
       "      <td>0.447368</td>\n",
       "      <td>9.488890</td>\n",
       "      <td>711.101063</td>\n",
       "      <td>25.182271</td>\n",
       "      <td>0.073603</td>\n",
       "      <td>4.102727</td>\n",
       "      <td>24.389071</td>\n",
       "      <td>127.961459</td>\n",
       "      <td>0.204705</td>\n",
       "      <td>0.058632</td>\n",
       "      <td>0.479252</td>\n",
       "      <td>4.698498</td>\n",
       "      <td>0.955767</td>\n",
       "      <td>7.458341e-155</td>\n",
       "    </tr>\n",
       "    <tr>\n",
       "      <th>std</th>\n",
       "      <td>0.497288</td>\n",
       "      <td>5.728022</td>\n",
       "      <td>467.466896</td>\n",
       "      <td>8.773526</td>\n",
       "      <td>0.070269</td>\n",
       "      <td>2.560940</td>\n",
       "      <td>56.434747</td>\n",
       "      <td>109.499601</td>\n",
       "      <td>0.129352</td>\n",
       "      <td>0.058300</td>\n",
       "      <td>0.127929</td>\n",
       "      <td>1.850173</td>\n",
       "      <td>0.026157</td>\n",
       "      <td>0.000000e+00</td>\n",
       "    </tr>\n",
       "    <tr>\n",
       "      <th>min</th>\n",
       "      <td>0.000000</td>\n",
       "      <td>0.078659</td>\n",
       "      <td>3.145628</td>\n",
       "      <td>1.773592</td>\n",
       "      <td>0.000882</td>\n",
       "      <td>1.886014</td>\n",
       "      <td>3.942402</td>\n",
       "      <td>3.194733</td>\n",
       "      <td>0.024731</td>\n",
       "      <td>0.000612</td>\n",
       "      <td>0.105490</td>\n",
       "      <td>0.681121</td>\n",
       "      <td>0.549426</td>\n",
       "      <td>7.458341e-155</td>\n",
       "    </tr>\n",
       "    <tr>\n",
       "      <th>25%</th>\n",
       "      <td>0.000000</td>\n",
       "      <td>4.982395</td>\n",
       "      <td>363.225459</td>\n",
       "      <td>19.058475</td>\n",
       "      <td>0.006856</td>\n",
       "      <td>2.620203</td>\n",
       "      <td>7.252852</td>\n",
       "      <td>72.125208</td>\n",
       "      <td>0.069617</td>\n",
       "      <td>0.004847</td>\n",
       "      <td>0.364973</td>\n",
       "      <td>3.412363</td>\n",
       "      <td>0.947138</td>\n",
       "      <td>7.458341e-155</td>\n",
       "    </tr>\n",
       "    <tr>\n",
       "      <th>50%</th>\n",
       "      <td>0.000000</td>\n",
       "      <td>8.477531</td>\n",
       "      <td>622.580417</td>\n",
       "      <td>24.951560</td>\n",
       "      <td>0.066628</td>\n",
       "      <td>3.422210</td>\n",
       "      <td>12.359088</td>\n",
       "      <td>106.737418</td>\n",
       "      <td>0.225496</td>\n",
       "      <td>0.050849</td>\n",
       "      <td>0.512551</td>\n",
       "      <td>4.482404</td>\n",
       "      <td>0.961610</td>\n",
       "      <td>7.458341e-155</td>\n",
       "    </tr>\n",
       "    <tr>\n",
       "      <th>75%</th>\n",
       "      <td>1.000000</td>\n",
       "      <td>13.212723</td>\n",
       "      <td>966.954319</td>\n",
       "      <td>31.095889</td>\n",
       "      <td>0.113284</td>\n",
       "      <td>4.651737</td>\n",
       "      <td>22.640304</td>\n",
       "      <td>161.059006</td>\n",
       "      <td>0.298901</td>\n",
       "      <td>0.089342</td>\n",
       "      <td>0.575557</td>\n",
       "      <td>5.723821</td>\n",
       "      <td>0.971355</td>\n",
       "      <td>7.458341e-155</td>\n",
       "    </tr>\n",
       "    <tr>\n",
       "      <th>max</th>\n",
       "      <td>1.000000</td>\n",
       "      <td>33.239975</td>\n",
       "      <td>2910.581879</td>\n",
       "      <td>53.949809</td>\n",
       "      <td>0.394539</td>\n",
       "      <td>36.931294</td>\n",
       "      <td>1371.640060</td>\n",
       "      <td>3382.574163</td>\n",
       "      <td>0.589682</td>\n",
       "      <td>0.347725</td>\n",
       "      <td>0.810921</td>\n",
       "      <td>27.827751</td>\n",
       "      <td>0.989972</td>\n",
       "      <td>7.458341e-155</td>\n",
       "    </tr>\n",
       "  </tbody>\n",
       "</table>\n",
       "</div>"
      ],
      "text/plain": [
       "             Class         Mean     Variance  Standard Deviation      Entropy  \\\n",
       "count  3762.000000  3762.000000  3762.000000         3762.000000  3762.000000   \n",
       "mean      0.447368     9.488890   711.101063           25.182271     0.073603   \n",
       "std       0.497288     5.728022   467.466896            8.773526     0.070269   \n",
       "min       0.000000     0.078659     3.145628            1.773592     0.000882   \n",
       "25%       0.000000     4.982395   363.225459           19.058475     0.006856   \n",
       "50%       0.000000     8.477531   622.580417           24.951560     0.066628   \n",
       "75%       1.000000    13.212723   966.954319           31.095889     0.113284   \n",
       "max       1.000000    33.239975  2910.581879           53.949809     0.394539   \n",
       "\n",
       "          Skewness     Kurtosis     Contrast       Energy          ASM  \\\n",
       "count  3762.000000  3762.000000  3762.000000  3762.000000  3762.000000   \n",
       "mean      4.102727    24.389071   127.961459     0.204705     0.058632   \n",
       "std       2.560940    56.434747   109.499601     0.129352     0.058300   \n",
       "min       1.886014     3.942402     3.194733     0.024731     0.000612   \n",
       "25%       2.620203     7.252852    72.125208     0.069617     0.004847   \n",
       "50%       3.422210    12.359088   106.737418     0.225496     0.050849   \n",
       "75%       4.651737    22.640304   161.059006     0.298901     0.089342   \n",
       "max      36.931294  1371.640060  3382.574163     0.589682     0.347725   \n",
       "\n",
       "       Homogeneity  Dissimilarity  Correlation     Coarseness  \n",
       "count  3762.000000    3762.000000  3762.000000   3.762000e+03  \n",
       "mean      0.479252       4.698498     0.955767  7.458341e-155  \n",
       "std       0.127929       1.850173     0.026157   0.000000e+00  \n",
       "min       0.105490       0.681121     0.549426  7.458341e-155  \n",
       "25%       0.364973       3.412363     0.947138  7.458341e-155  \n",
       "50%       0.512551       4.482404     0.961610  7.458341e-155  \n",
       "75%       0.575557       5.723821     0.971355  7.458341e-155  \n",
       "max       0.810921      27.827751     0.989972  7.458341e-155  "
      ]
     },
     "execution_count": 5,
     "metadata": {},
     "output_type": "execute_result"
    }
   ],
   "source": [
    "df.describe()"
   ]
  },
  {
   "cell_type": "code",
   "execution_count": 6,
   "metadata": {},
   "outputs": [],
   "source": [
    "df=df.iloc[1500:3500]"
   ]
  },
  {
   "cell_type": "code",
   "execution_count": 7,
   "metadata": {},
   "outputs": [
    {
     "data": {
      "text/plain": [
       "(2000, 15)"
      ]
     },
     "execution_count": 7,
     "metadata": {},
     "output_type": "execute_result"
    }
   ],
   "source": [
    "df.shape"
   ]
  },
  {
   "cell_type": "code",
   "execution_count": 8,
   "metadata": {},
   "outputs": [
    {
     "name": "stdout",
     "output_type": "stream",
     "text": [
      "<class 'pandas.core.frame.DataFrame'>\n",
      "RangeIndex: 2000 entries, 1500 to 3499\n",
      "Data columns (total 15 columns):\n",
      " #   Column              Non-Null Count  Dtype  \n",
      "---  ------              --------------  -----  \n",
      " 0   Image               2000 non-null   object \n",
      " 1   Class               2000 non-null   int64  \n",
      " 2   Mean                2000 non-null   float64\n",
      " 3   Variance            2000 non-null   float64\n",
      " 4   Standard Deviation  2000 non-null   float64\n",
      " 5   Entropy             2000 non-null   float64\n",
      " 6   Skewness            2000 non-null   float64\n",
      " 7   Kurtosis            2000 non-null   float64\n",
      " 8   Contrast            2000 non-null   float64\n",
      " 9   Energy              2000 non-null   float64\n",
      " 10  ASM                 2000 non-null   float64\n",
      " 11  Homogeneity         2000 non-null   float64\n",
      " 12  Dissimilarity       2000 non-null   float64\n",
      " 13  Correlation         2000 non-null   float64\n",
      " 14  Coarseness          2000 non-null   float64\n",
      "dtypes: float64(13), int64(1), object(1)\n",
      "memory usage: 234.5+ KB\n"
     ]
    }
   ],
   "source": [
    "df.info()"
   ]
  },
  {
   "cell_type": "code",
   "execution_count": 9,
   "metadata": {
    "scrolled": true
   },
   "outputs": [
    {
     "data": {
      "text/plain": [
       "Image                 0\n",
       "Class                 0\n",
       "Mean                  0\n",
       "Variance              0\n",
       "Standard Deviation    0\n",
       "Entropy               0\n",
       "Skewness              0\n",
       "Kurtosis              0\n",
       "Contrast              0\n",
       "Energy                0\n",
       "ASM                   0\n",
       "Homogeneity           0\n",
       "Dissimilarity         0\n",
       "Correlation           0\n",
       "Coarseness            0\n",
       "dtype: int64"
      ]
     },
     "execution_count": 9,
     "metadata": {},
     "output_type": "execute_result"
    }
   ],
   "source": [
    "#  To find the missing values in every feature\n",
    "df.isnull().sum()"
   ]
  },
  {
   "cell_type": "code",
   "execution_count": 10,
   "metadata": {},
   "outputs": [
    {
     "data": {
      "text/plain": [
       "1    1054\n",
       "0     946\n",
       "Name: Class, dtype: int64"
      ]
     },
     "execution_count": 10,
     "metadata": {},
     "output_type": "execute_result"
    }
   ],
   "source": [
    "s = df['Class']\n",
    "s.value_counts()"
   ]
  },
  {
   "cell_type": "code",
   "execution_count": 11,
   "metadata": {},
   "outputs": [
    {
     "data": {
      "image/png": "[encoded data removed]",
      "text/plain": [
       "<Figure size 432x288 with 1 Axes>"
      ]
     },
     "metadata": {
      "needs_background": "light"
     },
     "output_type": "display_data"
    }
   ],
   "source": [
    "#frequency distribution for Class attribute\n",
    "\n",
    "plt.bar([\"0\",\"1\"],df['Class'].value_counts(),color = ['green','red'])\n",
    "plt.title(\"Class Distribution\")\n",
    "plt.show()"
   ]
  },
  {
   "cell_type": "code",
   "execution_count": 12,
   "metadata": {
    "scrolled": true
   },
   "outputs": [
    {
     "data": {
      "image/png": "[encoded data removed]",
      "text/plain": [
       "<Figure size 432x288 with 1 Axes>"
      ]
     },
     "metadata": {},
     "output_type": "display_data"
    }
   ],
   "source": [
    "# Pie Chart for Class attribute\n",
    "\n",
    "labels = 'Class 0' , 'Class 1'\n",
    "explode = (0, 0.1)\n",
    "mycolors = [\"green\",\"red\"]\n",
    "\n",
    "fig1, ax1 = plt.subplots()\n",
    "ax1.pie(s.value_counts(), explode = explode ,labels=labels, autopct='%1.2f%%',\n",
    "        shadow=True, startangle=90 ,colors = mycolors )\n",
    "ax1.axis('equal')  \n",
    "\n",
    "plt.show()"
   ]
  },
  {
   "cell_type": "code",
   "execution_count": 13,
   "metadata": {},
   "outputs": [],
   "source": [
    "### Dropping Image attribute\n",
    "df.drop('Image',axis=1,inplace=True)"
   ]
  },
  {
   "cell_type": "code",
   "execution_count": 14,
   "metadata": {},
   "outputs": [
    {
     "name": "stdout",
     "output_type": "stream",
     "text": [
      "<class 'pandas.core.frame.DataFrame'>\n",
      "RangeIndex: 2000 entries, 1500 to 3499\n",
      "Data columns (total 14 columns):\n",
      " #   Column              Non-Null Count  Dtype  \n",
      "---  ------              --------------  -----  \n",
      " 0   Class               2000 non-null   int64  \n",
      " 1   Mean                2000 non-null   float64\n",
      " 2   Variance            2000 non-null   float64\n",
      " 3   Standard Deviation  2000 non-null   float64\n",
      " 4   Entropy             2000 non-null   float64\n",
      " 5   Skewness            2000 non-null   float64\n",
      " 6   Kurtosis            2000 non-null   float64\n",
      " 7   Contrast            2000 non-null   float64\n",
      " 8   Energy              2000 non-null   float64\n",
      " 9   ASM                 2000 non-null   float64\n",
      " 10  Homogeneity         2000 non-null   float64\n",
      " 11  Dissimilarity       2000 non-null   float64\n",
      " 12  Correlation         2000 non-null   float64\n",
      " 13  Coarseness          2000 non-null   float64\n",
      "dtypes: float64(13), int64(1)\n",
      "memory usage: 218.9 KB\n"
     ]
    }
   ],
   "source": [
    "df.info()"
   ]
  },
  {
   "cell_type": "code",
   "execution_count": 15,
   "metadata": {},
   "outputs": [
    {
     "data": {
      "text/html": [
       "<style  type=\"text/css\" >\n",
       "#T_6ef6d2cc_f170_11ec_956a_08979872418arow0_col0,#T_6ef6d2cc_f170_11ec_956a_08979872418arow1_col1,#T_6ef6d2cc_f170_11ec_956a_08979872418arow2_col2,#T_6ef6d2cc_f170_11ec_956a_08979872418arow3_col3,#T_6ef6d2cc_f170_11ec_956a_08979872418arow4_col4,#T_6ef6d2cc_f170_11ec_956a_08979872418arow4_col9,#T_6ef6d2cc_f170_11ec_956a_08979872418arow5_col5,#T_6ef6d2cc_f170_11ec_956a_08979872418arow6_col6,#T_6ef6d2cc_f170_11ec_956a_08979872418arow7_col7,#T_6ef6d2cc_f170_11ec_956a_08979872418arow8_col8,#T_6ef6d2cc_f170_11ec_956a_08979872418arow9_col4,#T_6ef6d2cc_f170_11ec_956a_08979872418arow9_col9,#T_6ef6d2cc_f170_11ec_956a_08979872418arow10_col10,#T_6ef6d2cc_f170_11ec_956a_08979872418arow11_col11,#T_6ef6d2cc_f170_11ec_956a_08979872418arow12_col12{\n",
       "            background-color:  #b40426;\n",
       "            color:  #f1f1f1;\n",
       "        }#T_6ef6d2cc_f170_11ec_956a_08979872418arow0_col1,#T_6ef6d2cc_f170_11ec_956a_08979872418arow1_col0,#T_6ef6d2cc_f170_11ec_956a_08979872418arow1_col11,#T_6ef6d2cc_f170_11ec_956a_08979872418arow11_col1{\n",
       "            background-color:  #bbd1f8;\n",
       "            color:  #000000;\n",
       "        }#T_6ef6d2cc_f170_11ec_956a_08979872418arow0_col2,#T_6ef6d2cc_f170_11ec_956a_08979872418arow2_col0{\n",
       "            background-color:  #f3c8b2;\n",
       "            color:  #000000;\n",
       "        }#T_6ef6d2cc_f170_11ec_956a_08979872418arow0_col3,#T_6ef6d2cc_f170_11ec_956a_08979872418arow3_col0{\n",
       "            background-color:  #f2cbb7;\n",
       "            color:  #000000;\n",
       "        }#T_6ef6d2cc_f170_11ec_956a_08979872418arow0_col4,#T_6ef6d2cc_f170_11ec_956a_08979872418arow4_col0{\n",
       "            background-color:  #445acc;\n",
       "            color:  #f1f1f1;\n",
       "        }#T_6ef6d2cc_f170_11ec_956a_08979872418arow0_col5,#T_6ef6d2cc_f170_11ec_956a_08979872418arow5_col0{\n",
       "            background-color:  #f7af91;\n",
       "            color:  #000000;\n",
       "        }#T_6ef6d2cc_f170_11ec_956a_08979872418arow0_col6,#T_6ef6d2cc_f170_11ec_956a_08979872418arow6_col0,#T_6ef6d2cc_f170_11ec_956a_08979872418arow6_col7,#T_6ef6d2cc_f170_11ec_956a_08979872418arow7_col6{\n",
       "            background-color:  #f1ccb8;\n",
       "            color:  #000000;\n",
       "        }#T_6ef6d2cc_f170_11ec_956a_08979872418arow0_col7,#T_6ef6d2cc_f170_11ec_956a_08979872418arow7_col0{\n",
       "            background-color:  #efcebd;\n",
       "            color:  #000000;\n",
       "        }#T_6ef6d2cc_f170_11ec_956a_08979872418arow0_col8,#T_6ef6d2cc_f170_11ec_956a_08979872418arow8_col0{\n",
       "            background-color:  #3b4cc0;\n",
       "            color:  #f1f1f1;\n",
       "        }#T_6ef6d2cc_f170_11ec_956a_08979872418arow0_col9,#T_6ef6d2cc_f170_11ec_956a_08979872418arow9_col0{\n",
       "            background-color:  #465ecf;\n",
       "            color:  #f1f1f1;\n",
       "        }#T_6ef6d2cc_f170_11ec_956a_08979872418arow0_col10,#T_6ef6d2cc_f170_11ec_956a_08979872418arow10_col0{\n",
       "            background-color:  #3f53c6;\n",
       "            color:  #f1f1f1;\n",
       "        }#T_6ef6d2cc_f170_11ec_956a_08979872418arow0_col11,#T_6ef6d2cc_f170_11ec_956a_08979872418arow11_col0{\n",
       "            background-color:  #f39577;\n",
       "            color:  #000000;\n",
       "        }#T_6ef6d2cc_f170_11ec_956a_08979872418arow0_col12,#T_6ef6d2cc_f170_11ec_956a_08979872418arow12_col0{\n",
       "            background-color:  #c1d4f4;\n",
       "            color:  #000000;\n",
       "        }#T_6ef6d2cc_f170_11ec_956a_08979872418arow0_col13,#T_6ef6d2cc_f170_11ec_956a_08979872418arow1_col13,#T_6ef6d2cc_f170_11ec_956a_08979872418arow2_col13,#T_6ef6d2cc_f170_11ec_956a_08979872418arow3_col13,#T_6ef6d2cc_f170_11ec_956a_08979872418arow4_col13,#T_6ef6d2cc_f170_11ec_956a_08979872418arow5_col13,#T_6ef6d2cc_f170_11ec_956a_08979872418arow6_col13,#T_6ef6d2cc_f170_11ec_956a_08979872418arow7_col13,#T_6ef6d2cc_f170_11ec_956a_08979872418arow8_col13,#T_6ef6d2cc_f170_11ec_956a_08979872418arow9_col13,#T_6ef6d2cc_f170_11ec_956a_08979872418arow10_col13,#T_6ef6d2cc_f170_11ec_956a_08979872418arow11_col13,#T_6ef6d2cc_f170_11ec_956a_08979872418arow12_col13,#T_6ef6d2cc_f170_11ec_956a_08979872418arow13_col0,#T_6ef6d2cc_f170_11ec_956a_08979872418arow13_col1,#T_6ef6d2cc_f170_11ec_956a_08979872418arow13_col2,#T_6ef6d2cc_f170_11ec_956a_08979872418arow13_col3,#T_6ef6d2cc_f170_11ec_956a_08979872418arow13_col4,#T_6ef6d2cc_f170_11ec_956a_08979872418arow13_col5,#T_6ef6d2cc_f170_11ec_956a_08979872418arow13_col6,#T_6ef6d2cc_f170_11ec_956a_08979872418arow13_col7,#T_6ef6d2cc_f170_11ec_956a_08979872418arow13_col8,#T_6ef6d2cc_f170_11ec_956a_08979872418arow13_col9,#T_6ef6d2cc_f170_11ec_956a_08979872418arow13_col10,#T_6ef6d2cc_f170_11ec_956a_08979872418arow13_col11,#T_6ef6d2cc_f170_11ec_956a_08979872418arow13_col12,#T_6ef6d2cc_f170_11ec_956a_08979872418arow13_col13{\n",
       "            background-color:  #000000;\n",
       "            color:  #f1f1f1;\n",
       "        }#T_6ef6d2cc_f170_11ec_956a_08979872418arow1_col2,#T_6ef6d2cc_f170_11ec_956a_08979872418arow2_col1{\n",
       "            background-color:  #dd5f4b;\n",
       "            color:  #000000;\n",
       "        }#T_6ef6d2cc_f170_11ec_956a_08979872418arow1_col3,#T_6ef6d2cc_f170_11ec_956a_08979872418arow3_col1{\n",
       "            background-color:  #dc5d4a;\n",
       "            color:  #000000;\n",
       "        }#T_6ef6d2cc_f170_11ec_956a_08979872418arow1_col4,#T_6ef6d2cc_f170_11ec_956a_08979872418arow4_col1{\n",
       "            background-color:  #d3dbe7;\n",
       "            color:  #000000;\n",
       "        }#T_6ef6d2cc_f170_11ec_956a_08979872418arow1_col5,#T_6ef6d2cc_f170_11ec_956a_08979872418arow5_col1{\n",
       "            background-color:  #6687ed;\n",
       "            color:  #000000;\n",
       "        }#T_6ef6d2cc_f170_11ec_956a_08979872418arow1_col6,#T_6ef6d2cc_f170_11ec_956a_08979872418arow2_col5,#T_6ef6d2cc_f170_11ec_956a_08979872418arow5_col2,#T_6ef6d2cc_f170_11ec_956a_08979872418arow5_col8,#T_6ef6d2cc_f170_11ec_956a_08979872418arow6_col1,#T_6ef6d2cc_f170_11ec_956a_08979872418arow8_col5{\n",
       "            background-color:  #96b7ff;\n",
       "            color:  #000000;\n",
       "        }#T_6ef6d2cc_f170_11ec_956a_08979872418arow1_col7,#T_6ef6d2cc_f170_11ec_956a_08979872418arow7_col1{\n",
       "            background-color:  #cedaeb;\n",
       "            color:  #000000;\n",
       "        }#T_6ef6d2cc_f170_11ec_956a_08979872418arow1_col8,#T_6ef6d2cc_f170_11ec_956a_08979872418arow8_col1{\n",
       "            background-color:  #dfdbd9;\n",
       "            color:  #000000;\n",
       "        }#T_6ef6d2cc_f170_11ec_956a_08979872418arow1_col9,#T_6ef6d2cc_f170_11ec_956a_08979872418arow9_col1{\n",
       "            background-color:  #d2dbe8;\n",
       "            color:  #000000;\n",
       "        }#T_6ef6d2cc_f170_11ec_956a_08979872418arow1_col10,#T_6ef6d2cc_f170_11ec_956a_08979872418arow10_col1{\n",
       "            background-color:  #edd2c3;\n",
       "            color:  #000000;\n",
       "        }#T_6ef6d2cc_f170_11ec_956a_08979872418arow1_col12,#T_6ef6d2cc_f170_11ec_956a_08979872418arow2_col12,#T_6ef6d2cc_f170_11ec_956a_08979872418arow12_col1,#T_6ef6d2cc_f170_11ec_956a_08979872418arow12_col2{\n",
       "            background-color:  #f4c6af;\n",
       "            color:  #000000;\n",
       "        }#T_6ef6d2cc_f170_11ec_956a_08979872418arow2_col3,#T_6ef6d2cc_f170_11ec_956a_08979872418arow3_col2,#T_6ef6d2cc_f170_11ec_956a_08979872418arow4_col8,#T_6ef6d2cc_f170_11ec_956a_08979872418arow8_col4{\n",
       "            background-color:  #b8122a;\n",
       "            color:  #f1f1f1;\n",
       "        }#T_6ef6d2cc_f170_11ec_956a_08979872418arow2_col4,#T_6ef6d2cc_f170_11ec_956a_08979872418arow2_col9,#T_6ef6d2cc_f170_11ec_956a_08979872418arow4_col2,#T_6ef6d2cc_f170_11ec_956a_08979872418arow4_col5,#T_6ef6d2cc_f170_11ec_956a_08979872418arow5_col4,#T_6ef6d2cc_f170_11ec_956a_08979872418arow9_col2{\n",
       "            background-color:  #a1c0ff;\n",
       "            color:  #000000;\n",
       "        }#T_6ef6d2cc_f170_11ec_956a_08979872418arow2_col6,#T_6ef6d2cc_f170_11ec_956a_08979872418arow6_col2{\n",
       "            background-color:  #a9c6fd;\n",
       "            color:  #000000;\n",
       "        }#T_6ef6d2cc_f170_11ec_956a_08979872418arow2_col7,#T_6ef6d2cc_f170_11ec_956a_08979872418arow7_col2{\n",
       "            background-color:  #ebd3c6;\n",
       "            color:  #000000;\n",
       "        }#T_6ef6d2cc_f170_11ec_956a_08979872418arow2_col8,#T_6ef6d2cc_f170_11ec_956a_08979872418arow7_col10,#T_6ef6d2cc_f170_11ec_956a_08979872418arow8_col2,#T_6ef6d2cc_f170_11ec_956a_08979872418arow10_col7{\n",
       "            background-color:  #a5c3fe;\n",
       "            color:  #000000;\n",
       "        }#T_6ef6d2cc_f170_11ec_956a_08979872418arow2_col10,#T_6ef6d2cc_f170_11ec_956a_08979872418arow3_col10,#T_6ef6d2cc_f170_11ec_956a_08979872418arow10_col2,#T_6ef6d2cc_f170_11ec_956a_08979872418arow10_col3{\n",
       "            background-color:  #aec9fc;\n",
       "            color:  #000000;\n",
       "        }#T_6ef6d2cc_f170_11ec_956a_08979872418arow2_col11,#T_6ef6d2cc_f170_11ec_956a_08979872418arow10_col12,#T_6ef6d2cc_f170_11ec_956a_08979872418arow11_col2,#T_6ef6d2cc_f170_11ec_956a_08979872418arow12_col10{\n",
       "            background-color:  #efcfbf;\n",
       "            color:  #000000;\n",
       "        }#T_6ef6d2cc_f170_11ec_956a_08979872418arow3_col4,#T_6ef6d2cc_f170_11ec_956a_08979872418arow3_col9,#T_6ef6d2cc_f170_11ec_956a_08979872418arow4_col3,#T_6ef6d2cc_f170_11ec_956a_08979872418arow5_col9,#T_6ef6d2cc_f170_11ec_956a_08979872418arow9_col3,#T_6ef6d2cc_f170_11ec_956a_08979872418arow9_col5{\n",
       "            background-color:  #a2c1ff;\n",
       "            color:  #000000;\n",
       "        }#T_6ef6d2cc_f170_11ec_956a_08979872418arow3_col5,#T_6ef6d2cc_f170_11ec_956a_08979872418arow5_col3{\n",
       "            background-color:  #88abfd;\n",
       "            color:  #000000;\n",
       "        }#T_6ef6d2cc_f170_11ec_956a_08979872418arow3_col6,#T_6ef6d2cc_f170_11ec_956a_08979872418arow6_col3{\n",
       "            background-color:  #9abbff;\n",
       "            color:  #000000;\n",
       "        }#T_6ef6d2cc_f170_11ec_956a_08979872418arow3_col7,#T_6ef6d2cc_f170_11ec_956a_08979872418arow7_col3{\n",
       "            background-color:  #ead5c9;\n",
       "            color:  #000000;\n",
       "        }#T_6ef6d2cc_f170_11ec_956a_08979872418arow3_col8,#T_6ef6d2cc_f170_11ec_956a_08979872418arow8_col3{\n",
       "            background-color:  #a6c4fe;\n",
       "            color:  #000000;\n",
       "        }#T_6ef6d2cc_f170_11ec_956a_08979872418arow3_col11,#T_6ef6d2cc_f170_11ec_956a_08979872418arow11_col3{\n",
       "            background-color:  #eed0c0;\n",
       "            color:  #000000;\n",
       "        }#T_6ef6d2cc_f170_11ec_956a_08979872418arow3_col12,#T_6ef6d2cc_f170_11ec_956a_08979872418arow12_col3{\n",
       "            background-color:  #f6bda2;\n",
       "            color:  #000000;\n",
       "        }#T_6ef6d2cc_f170_11ec_956a_08979872418arow4_col6,#T_6ef6d2cc_f170_11ec_956a_08979872418arow6_col4{\n",
       "            background-color:  #b6cefa;\n",
       "            color:  #000000;\n",
       "        }#T_6ef6d2cc_f170_11ec_956a_08979872418arow4_col7,#T_6ef6d2cc_f170_11ec_956a_08979872418arow7_col4,#T_6ef6d2cc_f170_11ec_956a_08979872418arow7_col9,#T_6ef6d2cc_f170_11ec_956a_08979872418arow9_col7{\n",
       "            background-color:  #bfd3f6;\n",
       "            color:  #000000;\n",
       "        }#T_6ef6d2cc_f170_11ec_956a_08979872418arow4_col10,#T_6ef6d2cc_f170_11ec_956a_08979872418arow10_col4{\n",
       "            background-color:  #d0473d;\n",
       "            color:  #f1f1f1;\n",
       "        }#T_6ef6d2cc_f170_11ec_956a_08979872418arow4_col11,#T_6ef6d2cc_f170_11ec_956a_08979872418arow11_col4{\n",
       "            background-color:  #7b9ff9;\n",
       "            color:  #000000;\n",
       "        }#T_6ef6d2cc_f170_11ec_956a_08979872418arow4_col12,#T_6ef6d2cc_f170_11ec_956a_08979872418arow8_col12,#T_6ef6d2cc_f170_11ec_956a_08979872418arow9_col12,#T_6ef6d2cc_f170_11ec_956a_08979872418arow12_col4,#T_6ef6d2cc_f170_11ec_956a_08979872418arow12_col8,#T_6ef6d2cc_f170_11ec_956a_08979872418arow12_col9{\n",
       "            background-color:  #e6d7cf;\n",
       "            color:  #000000;\n",
       "        }#T_6ef6d2cc_f170_11ec_956a_08979872418arow5_col6,#T_6ef6d2cc_f170_11ec_956a_08979872418arow6_col5{\n",
       "            background-color:  #ca3b37;\n",
       "            color:  #f1f1f1;\n",
       "        }#T_6ef6d2cc_f170_11ec_956a_08979872418arow5_col7,#T_6ef6d2cc_f170_11ec_956a_08979872418arow7_col5{\n",
       "            background-color:  #f5c2aa;\n",
       "            color:  #000000;\n",
       "        }#T_6ef6d2cc_f170_11ec_956a_08979872418arow5_col10,#T_6ef6d2cc_f170_11ec_956a_08979872418arow10_col5{\n",
       "            background-color:  #7699f6;\n",
       "            color:  #000000;\n",
       "        }#T_6ef6d2cc_f170_11ec_956a_08979872418arow5_col11,#T_6ef6d2cc_f170_11ec_956a_08979872418arow11_col5{\n",
       "            background-color:  #f59d7e;\n",
       "            color:  #000000;\n",
       "        }#T_6ef6d2cc_f170_11ec_956a_08979872418arow5_col12,#T_6ef6d2cc_f170_11ec_956a_08979872418arow12_col5{\n",
       "            background-color:  #7295f4;\n",
       "            color:  #000000;\n",
       "        }#T_6ef6d2cc_f170_11ec_956a_08979872418arow6_col8,#T_6ef6d2cc_f170_11ec_956a_08979872418arow8_col6{\n",
       "            background-color:  #b3cdfb;\n",
       "            color:  #000000;\n",
       "        }#T_6ef6d2cc_f170_11ec_956a_08979872418arow6_col9,#T_6ef6d2cc_f170_11ec_956a_08979872418arow9_col6{\n",
       "            background-color:  #b7cff9;\n",
       "            color:  #000000;\n",
       "        }#T_6ef6d2cc_f170_11ec_956a_08979872418arow6_col10,#T_6ef6d2cc_f170_11ec_956a_08979872418arow10_col6{\n",
       "            background-color:  #9bbcff;\n",
       "            color:  #000000;\n",
       "        }#T_6ef6d2cc_f170_11ec_956a_08979872418arow6_col11,#T_6ef6d2cc_f170_11ec_956a_08979872418arow11_col6{\n",
       "            background-color:  #f7bca1;\n",
       "            color:  #000000;\n",
       "        }#T_6ef6d2cc_f170_11ec_956a_08979872418arow6_col12,#T_6ef6d2cc_f170_11ec_956a_08979872418arow12_col6{\n",
       "            background-color:  #6c8ff1;\n",
       "            color:  #000000;\n",
       "        }#T_6ef6d2cc_f170_11ec_956a_08979872418arow7_col8,#T_6ef6d2cc_f170_11ec_956a_08979872418arow8_col7{\n",
       "            background-color:  #c0d4f5;\n",
       "            color:  #000000;\n",
       "        }#T_6ef6d2cc_f170_11ec_956a_08979872418arow7_col11,#T_6ef6d2cc_f170_11ec_956a_08979872418arow11_col7{\n",
       "            background-color:  #de614d;\n",
       "            color:  #000000;\n",
       "        }#T_6ef6d2cc_f170_11ec_956a_08979872418arow7_col12,#T_6ef6d2cc_f170_11ec_956a_08979872418arow12_col7{\n",
       "            background-color:  #8badfd;\n",
       "            color:  #000000;\n",
       "        }#T_6ef6d2cc_f170_11ec_956a_08979872418arow8_col9,#T_6ef6d2cc_f170_11ec_956a_08979872418arow9_col8{\n",
       "            background-color:  #ba162b;\n",
       "            color:  #f1f1f1;\n",
       "        }#T_6ef6d2cc_f170_11ec_956a_08979872418arow8_col10,#T_6ef6d2cc_f170_11ec_956a_08979872418arow10_col8{\n",
       "            background-color:  #c53334;\n",
       "            color:  #f1f1f1;\n",
       "        }#T_6ef6d2cc_f170_11ec_956a_08979872418arow8_col11,#T_6ef6d2cc_f170_11ec_956a_08979872418arow11_col8{\n",
       "            background-color:  #7396f5;\n",
       "            color:  #000000;\n",
       "        }#T_6ef6d2cc_f170_11ec_956a_08979872418arow9_col10,#T_6ef6d2cc_f170_11ec_956a_08979872418arow10_col9{\n",
       "            background-color:  #d24b40;\n",
       "            color:  #f1f1f1;\n",
       "        }#T_6ef6d2cc_f170_11ec_956a_08979872418arow9_col11,#T_6ef6d2cc_f170_11ec_956a_08979872418arow11_col9{\n",
       "            background-color:  #7ea1fa;\n",
       "            color:  #000000;\n",
       "        }#T_6ef6d2cc_f170_11ec_956a_08979872418arow10_col11,#T_6ef6d2cc_f170_11ec_956a_08979872418arow11_col10{\n",
       "            background-color:  #4e68d8;\n",
       "            color:  #000000;\n",
       "        }#T_6ef6d2cc_f170_11ec_956a_08979872418arow11_col12,#T_6ef6d2cc_f170_11ec_956a_08979872418arow12_col11{\n",
       "            background-color:  #90b2fe;\n",
       "            color:  #000000;\n",
       "        }</style><table id=\"T_6ef6d2cc_f170_11ec_956a_08979872418a\" ><thead>    <tr>        <th class=\"blank level0\" ></th>        <th class=\"col_heading level0 col0\" >Class</th>        <th class=\"col_heading level0 col1\" >Mean</th>        <th class=\"col_heading level0 col2\" >Variance</th>        <th class=\"col_heading level0 col3\" >Standard Deviation</th>        <th class=\"col_heading level0 col4\" >Entropy</th>        <th class=\"col_heading level0 col5\" >Skewness</th>        <th class=\"col_heading level0 col6\" >Kurtosis</th>        <th class=\"col_heading level0 col7\" >Contrast</th>        <th class=\"col_heading level0 col8\" >Energy</th>        <th class=\"col_heading level0 col9\" >ASM</th>        <th class=\"col_heading level0 col10\" >Homogeneity</th>        <th class=\"col_heading level0 col11\" >Dissimilarity</th>        <th class=\"col_heading level0 col12\" >Correlation</th>        <th class=\"col_heading level0 col13\" >Coarseness</th>    </tr></thead><tbody>\n",
       "                <tr>\n",
       "                        <th id=\"T_6ef6d2cc_f170_11ec_956a_08979872418alevel0_row0\" class=\"row_heading level0 row0\" >Class</th>\n",
       "                        <td id=\"T_6ef6d2cc_f170_11ec_956a_08979872418arow0_col0\" class=\"data row0 col0\" >1.00</td>\n",
       "                        <td id=\"T_6ef6d2cc_f170_11ec_956a_08979872418arow0_col1\" class=\"data row0 col1\" >-0.15</td>\n",
       "                        <td id=\"T_6ef6d2cc_f170_11ec_956a_08979872418arow0_col2\" class=\"data row0 col2\" >0.27</td>\n",
       "                        <td id=\"T_6ef6d2cc_f170_11ec_956a_08979872418arow0_col3\" class=\"data row0 col3\" >0.25</td>\n",
       "                        <td id=\"T_6ef6d2cc_f170_11ec_956a_08979872418arow0_col4\" class=\"data row0 col4\" >-0.81</td>\n",
       "                        <td id=\"T_6ef6d2cc_f170_11ec_956a_08979872418arow0_col5\" class=\"data row0 col5\" >0.43</td>\n",
       "                        <td id=\"T_6ef6d2cc_f170_11ec_956a_08979872418arow0_col6\" class=\"data row0 col6\" >0.24</td>\n",
       "                        <td id=\"T_6ef6d2cc_f170_11ec_956a_08979872418arow0_col7\" class=\"data row0 col7\" >0.22</td>\n",
       "                        <td id=\"T_6ef6d2cc_f170_11ec_956a_08979872418arow0_col8\" class=\"data row0 col8\" >-0.87</td>\n",
       "                        <td id=\"T_6ef6d2cc_f170_11ec_956a_08979872418arow0_col9\" class=\"data row0 col9\" >-0.80</td>\n",
       "                        <td id=\"T_6ef6d2cc_f170_11ec_956a_08979872418arow0_col10\" class=\"data row0 col10\" >-0.84</td>\n",
       "                        <td id=\"T_6ef6d2cc_f170_11ec_956a_08979872418arow0_col11\" class=\"data row0 col11\" >0.55</td>\n",
       "                        <td id=\"T_6ef6d2cc_f170_11ec_956a_08979872418arow0_col12\" class=\"data row0 col12\" >-0.11</td>\n",
       "                        <td id=\"T_6ef6d2cc_f170_11ec_956a_08979872418arow0_col13\" class=\"data row0 col13\" >nan</td>\n",
       "            </tr>\n",
       "            <tr>\n",
       "                        <th id=\"T_6ef6d2cc_f170_11ec_956a_08979872418alevel0_row1\" class=\"row_heading level0 row1\" >Mean</th>\n",
       "                        <td id=\"T_6ef6d2cc_f170_11ec_956a_08979872418arow1_col0\" class=\"data row1 col0\" >-0.15</td>\n",
       "                        <td id=\"T_6ef6d2cc_f170_11ec_956a_08979872418arow1_col1\" class=\"data row1 col1\" >1.00</td>\n",
       "                        <td id=\"T_6ef6d2cc_f170_11ec_956a_08979872418arow1_col2\" class=\"data row1 col2\" >0.77</td>\n",
       "                        <td id=\"T_6ef6d2cc_f170_11ec_956a_08979872418arow1_col3\" class=\"data row1 col3\" >0.78</td>\n",
       "                        <td id=\"T_6ef6d2cc_f170_11ec_956a_08979872418arow1_col4\" class=\"data row1 col4\" >-0.01</td>\n",
       "                        <td id=\"T_6ef6d2cc_f170_11ec_956a_08979872418arow1_col5\" class=\"data row1 col5\" >-0.61</td>\n",
       "                        <td id=\"T_6ef6d2cc_f170_11ec_956a_08979872418arow1_col6\" class=\"data row1 col6\" >-0.36</td>\n",
       "                        <td id=\"T_6ef6d2cc_f170_11ec_956a_08979872418arow1_col7\" class=\"data row1 col7\" >-0.04</td>\n",
       "                        <td id=\"T_6ef6d2cc_f170_11ec_956a_08979872418arow1_col8\" class=\"data row1 col8\" >0.08</td>\n",
       "                        <td id=\"T_6ef6d2cc_f170_11ec_956a_08979872418arow1_col9\" class=\"data row1 col9\" >-0.02</td>\n",
       "                        <td id=\"T_6ef6d2cc_f170_11ec_956a_08979872418arow1_col10\" class=\"data row1 col10\" >0.19</td>\n",
       "                        <td id=\"T_6ef6d2cc_f170_11ec_956a_08979872418arow1_col11\" class=\"data row1 col11\" >-0.16</td>\n",
       "                        <td id=\"T_6ef6d2cc_f170_11ec_956a_08979872418arow1_col12\" class=\"data row1 col12\" >0.28</td>\n",
       "                        <td id=\"T_6ef6d2cc_f170_11ec_956a_08979872418arow1_col13\" class=\"data row1 col13\" >nan</td>\n",
       "            </tr>\n",
       "            <tr>\n",
       "                        <th id=\"T_6ef6d2cc_f170_11ec_956a_08979872418alevel0_row2\" class=\"row_heading level0 row2\" >Variance</th>\n",
       "                        <td id=\"T_6ef6d2cc_f170_11ec_956a_08979872418arow2_col0\" class=\"data row2 col0\" >0.27</td>\n",
       "                        <td id=\"T_6ef6d2cc_f170_11ec_956a_08979872418arow2_col1\" class=\"data row2 col1\" >0.77</td>\n",
       "                        <td id=\"T_6ef6d2cc_f170_11ec_956a_08979872418arow2_col2\" class=\"data row2 col2\" >1.00</td>\n",
       "                        <td id=\"T_6ef6d2cc_f170_11ec_956a_08979872418arow2_col3\" class=\"data row2 col3\" >0.98</td>\n",
       "                        <td id=\"T_6ef6d2cc_f170_11ec_956a_08979872418arow2_col4\" class=\"data row2 col4\" >-0.30</td>\n",
       "                        <td id=\"T_6ef6d2cc_f170_11ec_956a_08979872418arow2_col5\" class=\"data row2 col5\" >-0.36</td>\n",
       "                        <td id=\"T_6ef6d2cc_f170_11ec_956a_08979872418arow2_col6\" class=\"data row2 col6\" >-0.25</td>\n",
       "                        <td id=\"T_6ef6d2cc_f170_11ec_956a_08979872418arow2_col7\" class=\"data row2 col7\" >0.18</td>\n",
       "                        <td id=\"T_6ef6d2cc_f170_11ec_956a_08979872418arow2_col8\" class=\"data row2 col8\" >-0.28</td>\n",
       "                        <td id=\"T_6ef6d2cc_f170_11ec_956a_08979872418arow2_col9\" class=\"data row2 col9\" >-0.30</td>\n",
       "                        <td id=\"T_6ef6d2cc_f170_11ec_956a_08979872418arow2_col10\" class=\"data row2 col10\" >-0.23</td>\n",
       "                        <td id=\"T_6ef6d2cc_f170_11ec_956a_08979872418arow2_col11\" class=\"data row2 col11\" >0.22</td>\n",
       "                        <td id=\"T_6ef6d2cc_f170_11ec_956a_08979872418arow2_col12\" class=\"data row2 col12\" >0.29</td>\n",
       "                        <td id=\"T_6ef6d2cc_f170_11ec_956a_08979872418arow2_col13\" class=\"data row2 col13\" >nan</td>\n",
       "            </tr>\n",
       "            <tr>\n",
       "                        <th id=\"T_6ef6d2cc_f170_11ec_956a_08979872418alevel0_row3\" class=\"row_heading level0 row3\" >Standard Deviation</th>\n",
       "                        <td id=\"T_6ef6d2cc_f170_11ec_956a_08979872418arow3_col0\" class=\"data row3 col0\" >0.25</td>\n",
       "                        <td id=\"T_6ef6d2cc_f170_11ec_956a_08979872418arow3_col1\" class=\"data row3 col1\" >0.78</td>\n",
       "                        <td id=\"T_6ef6d2cc_f170_11ec_956a_08979872418arow3_col2\" class=\"data row3 col2\" >0.98</td>\n",
       "                        <td id=\"T_6ef6d2cc_f170_11ec_956a_08979872418arow3_col3\" class=\"data row3 col3\" >1.00</td>\n",
       "                        <td id=\"T_6ef6d2cc_f170_11ec_956a_08979872418arow3_col4\" class=\"data row3 col4\" >-0.29</td>\n",
       "                        <td id=\"T_6ef6d2cc_f170_11ec_956a_08979872418arow3_col5\" class=\"data row3 col5\" >-0.43</td>\n",
       "                        <td id=\"T_6ef6d2cc_f170_11ec_956a_08979872418arow3_col6\" class=\"data row3 col6\" >-0.33</td>\n",
       "                        <td id=\"T_6ef6d2cc_f170_11ec_956a_08979872418arow3_col7\" class=\"data row3 col7\" >0.16</td>\n",
       "                        <td id=\"T_6ef6d2cc_f170_11ec_956a_08979872418arow3_col8\" class=\"data row3 col8\" >-0.27</td>\n",
       "                        <td id=\"T_6ef6d2cc_f170_11ec_956a_08979872418arow3_col9\" class=\"data row3 col9\" >-0.29</td>\n",
       "                        <td id=\"T_6ef6d2cc_f170_11ec_956a_08979872418arow3_col10\" class=\"data row3 col10\" >-0.22</td>\n",
       "                        <td id=\"T_6ef6d2cc_f170_11ec_956a_08979872418arow3_col11\" class=\"data row3 col11\" >0.21</td>\n",
       "                        <td id=\"T_6ef6d2cc_f170_11ec_956a_08979872418arow3_col12\" class=\"data row3 col12\" >0.34</td>\n",
       "                        <td id=\"T_6ef6d2cc_f170_11ec_956a_08979872418arow3_col13\" class=\"data row3 col13\" >nan</td>\n",
       "            </tr>\n",
       "            <tr>\n",
       "                        <th id=\"T_6ef6d2cc_f170_11ec_956a_08979872418alevel0_row4\" class=\"row_heading level0 row4\" >Entropy</th>\n",
       "                        <td id=\"T_6ef6d2cc_f170_11ec_956a_08979872418arow4_col0\" class=\"data row4 col0\" >-0.81</td>\n",
       "                        <td id=\"T_6ef6d2cc_f170_11ec_956a_08979872418arow4_col1\" class=\"data row4 col1\" >-0.01</td>\n",
       "                        <td id=\"T_6ef6d2cc_f170_11ec_956a_08979872418arow4_col2\" class=\"data row4 col2\" >-0.30</td>\n",
       "                        <td id=\"T_6ef6d2cc_f170_11ec_956a_08979872418arow4_col3\" class=\"data row4 col3\" >-0.29</td>\n",
       "                        <td id=\"T_6ef6d2cc_f170_11ec_956a_08979872418arow4_col4\" class=\"data row4 col4\" >1.00</td>\n",
       "                        <td id=\"T_6ef6d2cc_f170_11ec_956a_08979872418arow4_col5\" class=\"data row4 col5\" >-0.30</td>\n",
       "                        <td id=\"T_6ef6d2cc_f170_11ec_956a_08979872418arow4_col6\" class=\"data row4 col6\" >-0.18</td>\n",
       "                        <td id=\"T_6ef6d2cc_f170_11ec_956a_08979872418arow4_col7\" class=\"data row4 col7\" >-0.13</td>\n",
       "                        <td id=\"T_6ef6d2cc_f170_11ec_956a_08979872418arow4_col8\" class=\"data row4 col8\" >0.97</td>\n",
       "                        <td id=\"T_6ef6d2cc_f170_11ec_956a_08979872418arow4_col9\" class=\"data row4 col9\" >1.00</td>\n",
       "                        <td id=\"T_6ef6d2cc_f170_11ec_956a_08979872418arow4_col10\" class=\"data row4 col10\" >0.85</td>\n",
       "                        <td id=\"T_6ef6d2cc_f170_11ec_956a_08979872418arow4_col11\" class=\"data row4 col11\" >-0.50</td>\n",
       "                        <td id=\"T_6ef6d2cc_f170_11ec_956a_08979872418arow4_col12\" class=\"data row4 col12\" >0.13</td>\n",
       "                        <td id=\"T_6ef6d2cc_f170_11ec_956a_08979872418arow4_col13\" class=\"data row4 col13\" >nan</td>\n",
       "            </tr>\n",
       "            <tr>\n",
       "                        <th id=\"T_6ef6d2cc_f170_11ec_956a_08979872418alevel0_row5\" class=\"row_heading level0 row5\" >Skewness</th>\n",
       "                        <td id=\"T_6ef6d2cc_f170_11ec_956a_08979872418arow5_col0\" class=\"data row5 col0\" >0.43</td>\n",
       "                        <td id=\"T_6ef6d2cc_f170_11ec_956a_08979872418arow5_col1\" class=\"data row5 col1\" >-0.61</td>\n",
       "                        <td id=\"T_6ef6d2cc_f170_11ec_956a_08979872418arow5_col2\" class=\"data row5 col2\" >-0.36</td>\n",
       "                        <td id=\"T_6ef6d2cc_f170_11ec_956a_08979872418arow5_col3\" class=\"data row5 col3\" >-0.43</td>\n",
       "                        <td id=\"T_6ef6d2cc_f170_11ec_956a_08979872418arow5_col4\" class=\"data row5 col4\" >-0.30</td>\n",
       "                        <td id=\"T_6ef6d2cc_f170_11ec_956a_08979872418arow5_col5\" class=\"data row5 col5\" >1.00</td>\n",
       "                        <td id=\"T_6ef6d2cc_f170_11ec_956a_08979872418arow5_col6\" class=\"data row5 col6\" >0.89</td>\n",
       "                        <td id=\"T_6ef6d2cc_f170_11ec_956a_08979872418arow5_col7\" class=\"data row5 col7\" >0.31</td>\n",
       "                        <td id=\"T_6ef6d2cc_f170_11ec_956a_08979872418arow5_col8\" class=\"data row5 col8\" >-0.36</td>\n",
       "                        <td id=\"T_6ef6d2cc_f170_11ec_956a_08979872418arow5_col9\" class=\"data row5 col9\" >-0.29</td>\n",
       "                        <td id=\"T_6ef6d2cc_f170_11ec_956a_08979872418arow5_col10\" class=\"data row5 col10\" >-0.53</td>\n",
       "                        <td id=\"T_6ef6d2cc_f170_11ec_956a_08979872418arow5_col11\" class=\"data row5 col11\" >0.51</td>\n",
       "                        <td id=\"T_6ef6d2cc_f170_11ec_956a_08979872418arow5_col12\" class=\"data row5 col12\" >-0.55</td>\n",
       "                        <td id=\"T_6ef6d2cc_f170_11ec_956a_08979872418arow5_col13\" class=\"data row5 col13\" >nan</td>\n",
       "            </tr>\n",
       "            <tr>\n",
       "                        <th id=\"T_6ef6d2cc_f170_11ec_956a_08979872418alevel0_row6\" class=\"row_heading level0 row6\" >Kurtosis</th>\n",
       "                        <td id=\"T_6ef6d2cc_f170_11ec_956a_08979872418arow6_col0\" class=\"data row6 col0\" >0.24</td>\n",
       "                        <td id=\"T_6ef6d2cc_f170_11ec_956a_08979872418arow6_col1\" class=\"data row6 col1\" >-0.36</td>\n",
       "                        <td id=\"T_6ef6d2cc_f170_11ec_956a_08979872418arow6_col2\" class=\"data row6 col2\" >-0.25</td>\n",
       "                        <td id=\"T_6ef6d2cc_f170_11ec_956a_08979872418arow6_col3\" class=\"data row6 col3\" >-0.33</td>\n",
       "                        <td id=\"T_6ef6d2cc_f170_11ec_956a_08979872418arow6_col4\" class=\"data row6 col4\" >-0.18</td>\n",
       "                        <td id=\"T_6ef6d2cc_f170_11ec_956a_08979872418arow6_col5\" class=\"data row6 col5\" >0.89</td>\n",
       "                        <td id=\"T_6ef6d2cc_f170_11ec_956a_08979872418arow6_col6\" class=\"data row6 col6\" >1.00</td>\n",
       "                        <td id=\"T_6ef6d2cc_f170_11ec_956a_08979872418arow6_col7\" class=\"data row6 col7\" >0.24</td>\n",
       "                        <td id=\"T_6ef6d2cc_f170_11ec_956a_08979872418arow6_col8\" class=\"data row6 col8\" >-0.20</td>\n",
       "                        <td id=\"T_6ef6d2cc_f170_11ec_956a_08979872418arow6_col9\" class=\"data row6 col9\" >-0.18</td>\n",
       "                        <td id=\"T_6ef6d2cc_f170_11ec_956a_08979872418arow6_col10\" class=\"data row6 col10\" >-0.33</td>\n",
       "                        <td id=\"T_6ef6d2cc_f170_11ec_956a_08979872418arow6_col11\" class=\"data row6 col11\" >0.35</td>\n",
       "                        <td id=\"T_6ef6d2cc_f170_11ec_956a_08979872418arow6_col12\" class=\"data row6 col12\" >-0.58</td>\n",
       "                        <td id=\"T_6ef6d2cc_f170_11ec_956a_08979872418arow6_col13\" class=\"data row6 col13\" >nan</td>\n",
       "            </tr>\n",
       "            <tr>\n",
       "                        <th id=\"T_6ef6d2cc_f170_11ec_956a_08979872418alevel0_row7\" class=\"row_heading level0 row7\" >Contrast</th>\n",
       "                        <td id=\"T_6ef6d2cc_f170_11ec_956a_08979872418arow7_col0\" class=\"data row7 col0\" >0.22</td>\n",
       "                        <td id=\"T_6ef6d2cc_f170_11ec_956a_08979872418arow7_col1\" class=\"data row7 col1\" >-0.04</td>\n",
       "                        <td id=\"T_6ef6d2cc_f170_11ec_956a_08979872418arow7_col2\" class=\"data row7 col2\" >0.18</td>\n",
       "                        <td id=\"T_6ef6d2cc_f170_11ec_956a_08979872418arow7_col3\" class=\"data row7 col3\" >0.16</td>\n",
       "                        <td id=\"T_6ef6d2cc_f170_11ec_956a_08979872418arow7_col4\" class=\"data row7 col4\" >-0.13</td>\n",
       "                        <td id=\"T_6ef6d2cc_f170_11ec_956a_08979872418arow7_col5\" class=\"data row7 col5\" >0.31</td>\n",
       "                        <td id=\"T_6ef6d2cc_f170_11ec_956a_08979872418arow7_col6\" class=\"data row7 col6\" >0.24</td>\n",
       "                        <td id=\"T_6ef6d2cc_f170_11ec_956a_08979872418arow7_col7\" class=\"data row7 col7\" >1.00</td>\n",
       "                        <td id=\"T_6ef6d2cc_f170_11ec_956a_08979872418arow7_col8\" class=\"data row7 col8\" >-0.12</td>\n",
       "                        <td id=\"T_6ef6d2cc_f170_11ec_956a_08979872418arow7_col9\" class=\"data row7 col9\" >-0.13</td>\n",
       "                        <td id=\"T_6ef6d2cc_f170_11ec_956a_08979872418arow7_col10\" class=\"data row7 col10\" >-0.28</td>\n",
       "                        <td id=\"T_6ef6d2cc_f170_11ec_956a_08979872418arow7_col11\" class=\"data row7 col11\" >0.76</td>\n",
       "                        <td id=\"T_6ef6d2cc_f170_11ec_956a_08979872418arow7_col12\" class=\"data row7 col12\" >-0.42</td>\n",
       "                        <td id=\"T_6ef6d2cc_f170_11ec_956a_08979872418arow7_col13\" class=\"data row7 col13\" >nan</td>\n",
       "            </tr>\n",
       "            <tr>\n",
       "                        <th id=\"T_6ef6d2cc_f170_11ec_956a_08979872418alevel0_row8\" class=\"row_heading level0 row8\" >Energy</th>\n",
       "                        <td id=\"T_6ef6d2cc_f170_11ec_956a_08979872418arow8_col0\" class=\"data row8 col0\" >-0.87</td>\n",
       "                        <td id=\"T_6ef6d2cc_f170_11ec_956a_08979872418arow8_col1\" class=\"data row8 col1\" >0.08</td>\n",
       "                        <td id=\"T_6ef6d2cc_f170_11ec_956a_08979872418arow8_col2\" class=\"data row8 col2\" >-0.28</td>\n",
       "                        <td id=\"T_6ef6d2cc_f170_11ec_956a_08979872418arow8_col3\" class=\"data row8 col3\" >-0.27</td>\n",
       "                        <td id=\"T_6ef6d2cc_f170_11ec_956a_08979872418arow8_col4\" class=\"data row8 col4\" >0.97</td>\n",
       "                        <td id=\"T_6ef6d2cc_f170_11ec_956a_08979872418arow8_col5\" class=\"data row8 col5\" >-0.36</td>\n",
       "                        <td id=\"T_6ef6d2cc_f170_11ec_956a_08979872418arow8_col6\" class=\"data row8 col6\" >-0.20</td>\n",
       "                        <td id=\"T_6ef6d2cc_f170_11ec_956a_08979872418arow8_col7\" class=\"data row8 col7\" >-0.12</td>\n",
       "                        <td id=\"T_6ef6d2cc_f170_11ec_956a_08979872418arow8_col8\" class=\"data row8 col8\" >1.00</td>\n",
       "                        <td id=\"T_6ef6d2cc_f170_11ec_956a_08979872418arow8_col9\" class=\"data row8 col9\" >0.97</td>\n",
       "                        <td id=\"T_6ef6d2cc_f170_11ec_956a_08979872418arow8_col10\" class=\"data row8 col10\" >0.91</td>\n",
       "                        <td id=\"T_6ef6d2cc_f170_11ec_956a_08979872418arow8_col11\" class=\"data row8 col11\" >-0.54</td>\n",
       "                        <td id=\"T_6ef6d2cc_f170_11ec_956a_08979872418arow8_col12\" class=\"data row8 col12\" >0.13</td>\n",
       "                        <td id=\"T_6ef6d2cc_f170_11ec_956a_08979872418arow8_col13\" class=\"data row8 col13\" >nan</td>\n",
       "            </tr>\n",
       "            <tr>\n",
       "                        <th id=\"T_6ef6d2cc_f170_11ec_956a_08979872418alevel0_row9\" class=\"row_heading level0 row9\" >ASM</th>\n",
       "                        <td id=\"T_6ef6d2cc_f170_11ec_956a_08979872418arow9_col0\" class=\"data row9 col0\" >-0.80</td>\n",
       "                        <td id=\"T_6ef6d2cc_f170_11ec_956a_08979872418arow9_col1\" class=\"data row9 col1\" >-0.02</td>\n",
       "                        <td id=\"T_6ef6d2cc_f170_11ec_956a_08979872418arow9_col2\" class=\"data row9 col2\" >-0.30</td>\n",
       "                        <td id=\"T_6ef6d2cc_f170_11ec_956a_08979872418arow9_col3\" class=\"data row9 col3\" >-0.29</td>\n",
       "                        <td id=\"T_6ef6d2cc_f170_11ec_956a_08979872418arow9_col4\" class=\"data row9 col4\" >1.00</td>\n",
       "                        <td id=\"T_6ef6d2cc_f170_11ec_956a_08979872418arow9_col5\" class=\"data row9 col5\" >-0.29</td>\n",
       "                        <td id=\"T_6ef6d2cc_f170_11ec_956a_08979872418arow9_col6\" class=\"data row9 col6\" >-0.18</td>\n",
       "                        <td id=\"T_6ef6d2cc_f170_11ec_956a_08979872418arow9_col7\" class=\"data row9 col7\" >-0.13</td>\n",
       "                        <td id=\"T_6ef6d2cc_f170_11ec_956a_08979872418arow9_col8\" class=\"data row9 col8\" >0.97</td>\n",
       "                        <td id=\"T_6ef6d2cc_f170_11ec_956a_08979872418arow9_col9\" class=\"data row9 col9\" >1.00</td>\n",
       "                        <td id=\"T_6ef6d2cc_f170_11ec_956a_08979872418arow9_col10\" class=\"data row9 col10\" >0.84</td>\n",
       "                        <td id=\"T_6ef6d2cc_f170_11ec_956a_08979872418arow9_col11\" class=\"data row9 col11\" >-0.49</td>\n",
       "                        <td id=\"T_6ef6d2cc_f170_11ec_956a_08979872418arow9_col12\" class=\"data row9 col12\" >0.13</td>\n",
       "                        <td id=\"T_6ef6d2cc_f170_11ec_956a_08979872418arow9_col13\" class=\"data row9 col13\" >nan</td>\n",
       "            </tr>\n",
       "            <tr>\n",
       "                        <th id=\"T_6ef6d2cc_f170_11ec_956a_08979872418alevel0_row10\" class=\"row_heading level0 row10\" >Homogeneity</th>\n",
       "                        <td id=\"T_6ef6d2cc_f170_11ec_956a_08979872418arow10_col0\" class=\"data row10 col0\" >-0.84</td>\n",
       "                        <td id=\"T_6ef6d2cc_f170_11ec_956a_08979872418arow10_col1\" class=\"data row10 col1\" >0.19</td>\n",
       "                        <td id=\"T_6ef6d2cc_f170_11ec_956a_08979872418arow10_col2\" class=\"data row10 col2\" >-0.23</td>\n",
       "                        <td id=\"T_6ef6d2cc_f170_11ec_956a_08979872418arow10_col3\" class=\"data row10 col3\" >-0.22</td>\n",
       "                        <td id=\"T_6ef6d2cc_f170_11ec_956a_08979872418arow10_col4\" class=\"data row10 col4\" >0.85</td>\n",
       "                        <td id=\"T_6ef6d2cc_f170_11ec_956a_08979872418arow10_col5\" class=\"data row10 col5\" >-0.53</td>\n",
       "                        <td id=\"T_6ef6d2cc_f170_11ec_956a_08979872418arow10_col6\" class=\"data row10 col6\" >-0.33</td>\n",
       "                        <td id=\"T_6ef6d2cc_f170_11ec_956a_08979872418arow10_col7\" class=\"data row10 col7\" >-0.28</td>\n",
       "                        <td id=\"T_6ef6d2cc_f170_11ec_956a_08979872418arow10_col8\" class=\"data row10 col8\" >0.91</td>\n",
       "                        <td id=\"T_6ef6d2cc_f170_11ec_956a_08979872418arow10_col9\" class=\"data row10 col9\" >0.84</td>\n",
       "                        <td id=\"T_6ef6d2cc_f170_11ec_956a_08979872418arow10_col10\" class=\"data row10 col10\" >1.00</td>\n",
       "                        <td id=\"T_6ef6d2cc_f170_11ec_956a_08979872418arow10_col11\" class=\"data row10 col11\" >-0.75</td>\n",
       "                        <td id=\"T_6ef6d2cc_f170_11ec_956a_08979872418arow10_col12\" class=\"data row10 col12\" >0.21</td>\n",
       "                        <td id=\"T_6ef6d2cc_f170_11ec_956a_08979872418arow10_col13\" class=\"data row10 col13\" >nan</td>\n",
       "            </tr>\n",
       "            <tr>\n",
       "                        <th id=\"T_6ef6d2cc_f170_11ec_956a_08979872418alevel0_row11\" class=\"row_heading level0 row11\" >Dissimilarity</th>\n",
       "                        <td id=\"T_6ef6d2cc_f170_11ec_956a_08979872418arow11_col0\" class=\"data row11 col0\" >0.55</td>\n",
       "                        <td id=\"T_6ef6d2cc_f170_11ec_956a_08979872418arow11_col1\" class=\"data row11 col1\" >-0.16</td>\n",
       "                        <td id=\"T_6ef6d2cc_f170_11ec_956a_08979872418arow11_col2\" class=\"data row11 col2\" >0.22</td>\n",
       "                        <td id=\"T_6ef6d2cc_f170_11ec_956a_08979872418arow11_col3\" class=\"data row11 col3\" >0.21</td>\n",
       "                        <td id=\"T_6ef6d2cc_f170_11ec_956a_08979872418arow11_col4\" class=\"data row11 col4\" >-0.50</td>\n",
       "                        <td id=\"T_6ef6d2cc_f170_11ec_956a_08979872418arow11_col5\" class=\"data row11 col5\" >0.51</td>\n",
       "                        <td id=\"T_6ef6d2cc_f170_11ec_956a_08979872418arow11_col6\" class=\"data row11 col6\" >0.35</td>\n",
       "                        <td id=\"T_6ef6d2cc_f170_11ec_956a_08979872418arow11_col7\" class=\"data row11 col7\" >0.76</td>\n",
       "                        <td id=\"T_6ef6d2cc_f170_11ec_956a_08979872418arow11_col8\" class=\"data row11 col8\" >-0.54</td>\n",
       "                        <td id=\"T_6ef6d2cc_f170_11ec_956a_08979872418arow11_col9\" class=\"data row11 col9\" >-0.49</td>\n",
       "                        <td id=\"T_6ef6d2cc_f170_11ec_956a_08979872418arow11_col10\" class=\"data row11 col10\" >-0.75</td>\n",
       "                        <td id=\"T_6ef6d2cc_f170_11ec_956a_08979872418arow11_col11\" class=\"data row11 col11\" >1.00</td>\n",
       "                        <td id=\"T_6ef6d2cc_f170_11ec_956a_08979872418arow11_col12\" class=\"data row11 col12\" >-0.38</td>\n",
       "                        <td id=\"T_6ef6d2cc_f170_11ec_956a_08979872418arow11_col13\" class=\"data row11 col13\" >nan</td>\n",
       "            </tr>\n",
       "            <tr>\n",
       "                        <th id=\"T_6ef6d2cc_f170_11ec_956a_08979872418alevel0_row12\" class=\"row_heading level0 row12\" >Correlation</th>\n",
       "                        <td id=\"T_6ef6d2cc_f170_11ec_956a_08979872418arow12_col0\" class=\"data row12 col0\" >-0.11</td>\n",
       "                        <td id=\"T_6ef6d2cc_f170_11ec_956a_08979872418arow12_col1\" class=\"data row12 col1\" >0.28</td>\n",
       "                        <td id=\"T_6ef6d2cc_f170_11ec_956a_08979872418arow12_col2\" class=\"data row12 col2\" >0.29</td>\n",
       "                        <td id=\"T_6ef6d2cc_f170_11ec_956a_08979872418arow12_col3\" class=\"data row12 col3\" >0.34</td>\n",
       "                        <td id=\"T_6ef6d2cc_f170_11ec_956a_08979872418arow12_col4\" class=\"data row12 col4\" >0.13</td>\n",
       "                        <td id=\"T_6ef6d2cc_f170_11ec_956a_08979872418arow12_col5\" class=\"data row12 col5\" >-0.55</td>\n",
       "                        <td id=\"T_6ef6d2cc_f170_11ec_956a_08979872418arow12_col6\" class=\"data row12 col6\" >-0.58</td>\n",
       "                        <td id=\"T_6ef6d2cc_f170_11ec_956a_08979872418arow12_col7\" class=\"data row12 col7\" >-0.42</td>\n",
       "                        <td id=\"T_6ef6d2cc_f170_11ec_956a_08979872418arow12_col8\" class=\"data row12 col8\" >0.13</td>\n",
       "                        <td id=\"T_6ef6d2cc_f170_11ec_956a_08979872418arow12_col9\" class=\"data row12 col9\" >0.13</td>\n",
       "                        <td id=\"T_6ef6d2cc_f170_11ec_956a_08979872418arow12_col10\" class=\"data row12 col10\" >0.21</td>\n",
       "                        <td id=\"T_6ef6d2cc_f170_11ec_956a_08979872418arow12_col11\" class=\"data row12 col11\" >-0.38</td>\n",
       "                        <td id=\"T_6ef6d2cc_f170_11ec_956a_08979872418arow12_col12\" class=\"data row12 col12\" >1.00</td>\n",
       "                        <td id=\"T_6ef6d2cc_f170_11ec_956a_08979872418arow12_col13\" class=\"data row12 col13\" >nan</td>\n",
       "            </tr>\n",
       "            <tr>\n",
       "                        <th id=\"T_6ef6d2cc_f170_11ec_956a_08979872418alevel0_row13\" class=\"row_heading level0 row13\" >Coarseness</th>\n",
       "                        <td id=\"T_6ef6d2cc_f170_11ec_956a_08979872418arow13_col0\" class=\"data row13 col0\" >nan</td>\n",
       "                        <td id=\"T_6ef6d2cc_f170_11ec_956a_08979872418arow13_col1\" class=\"data row13 col1\" >nan</td>\n",
       "                        <td id=\"T_6ef6d2cc_f170_11ec_956a_08979872418arow13_col2\" class=\"data row13 col2\" >nan</td>\n",
       "                        <td id=\"T_6ef6d2cc_f170_11ec_956a_08979872418arow13_col3\" class=\"data row13 col3\" >nan</td>\n",
       "                        <td id=\"T_6ef6d2cc_f170_11ec_956a_08979872418arow13_col4\" class=\"data row13 col4\" >nan</td>\n",
       "                        <td id=\"T_6ef6d2cc_f170_11ec_956a_08979872418arow13_col5\" class=\"data row13 col5\" >nan</td>\n",
       "                        <td id=\"T_6ef6d2cc_f170_11ec_956a_08979872418arow13_col6\" class=\"data row13 col6\" >nan</td>\n",
       "                        <td id=\"T_6ef6d2cc_f170_11ec_956a_08979872418arow13_col7\" class=\"data row13 col7\" >nan</td>\n",
       "                        <td id=\"T_6ef6d2cc_f170_11ec_956a_08979872418arow13_col8\" class=\"data row13 col8\" >nan</td>\n",
       "                        <td id=\"T_6ef6d2cc_f170_11ec_956a_08979872418arow13_col9\" class=\"data row13 col9\" >nan</td>\n",
       "                        <td id=\"T_6ef6d2cc_f170_11ec_956a_08979872418arow13_col10\" class=\"data row13 col10\" >nan</td>\n",
       "                        <td id=\"T_6ef6d2cc_f170_11ec_956a_08979872418arow13_col11\" class=\"data row13 col11\" >nan</td>\n",
       "                        <td id=\"T_6ef6d2cc_f170_11ec_956a_08979872418arow13_col12\" class=\"data row13 col12\" >nan</td>\n",
       "                        <td id=\"T_6ef6d2cc_f170_11ec_956a_08979872418arow13_col13\" class=\"data row13 col13\" >nan</td>\n",
       "            </tr>\n",
       "    </tbody></table>"
      ],
      "text/plain": [
       "<pandas.io.formats.style.Styler at 0x7f077c270588>"
      ]
     },
     "execution_count": 15,
     "metadata": {},
     "output_type": "execute_result"
    }
   ],
   "source": [
    "#Correlation Matrix\n",
    "\n",
    "corr_m = df.corr()\n",
    "corr_m.style.background_gradient(cmap='coolwarm',axis=None).set_precision(2)\n"
   ]
  },
  {
   "cell_type": "markdown",
   "metadata": {},
   "source": [
    "## Data Transformation"
   ]
  },
  {
   "cell_type": "markdown",
   "metadata": {},
   "source": [
    "### 1.  Handling Missing Values"
   ]
  },
  {
   "cell_type": "code",
   "execution_count": 16,
   "metadata": {},
   "outputs": [
    {
     "data": {
      "text/plain": [
       "Class                 0\n",
       "Mean                  0\n",
       "Variance              0\n",
       "Standard Deviation    0\n",
       "Entropy               0\n",
       "Skewness              0\n",
       "Kurtosis              0\n",
       "Contrast              0\n",
       "Energy                0\n",
       "ASM                   0\n",
       "Homogeneity           0\n",
       "Dissimilarity         0\n",
       "Correlation           0\n",
       "Coarseness            0\n",
       "dtype: int64"
      ]
     },
     "execution_count": 16,
     "metadata": {},
     "output_type": "execute_result"
    }
   ],
   "source": [
    "# To find the missing values in every feature\n",
    "df.isnull().sum()"
   ]
  },
  {
   "cell_type": "code",
   "execution_count": 17,
   "metadata": {},
   "outputs": [],
   "source": [
    "X = df.drop('Class',axis=1)   \n",
    "y = df['Class']    "
   ]
  },
  {
   "cell_type": "markdown",
   "metadata": {},
   "source": [
    "# Dimensionality Reduction"
   ]
  },
  {
   "cell_type": "markdown",
   "metadata": {},
   "source": [
    "## 1. Feature Selection"
   ]
  },
  {
   "cell_type": "code",
   "execution_count": 18,
   "metadata": {},
   "outputs": [],
   "source": [
    "#apply SelectKBest class to extract top 10 best features\n",
    "from sklearn.feature_selection import SelectKBest\n",
    "from sklearn.feature_selection import chi2\n",
    "bestfeatures = SelectKBest(score_func=chi2, k=10)\n",
    "fit = bestfeatures.fit(X,y)"
   ]
  },
  {
   "cell_type": "code",
   "execution_count": 19,
   "metadata": {},
   "outputs": [],
   "source": [
    "dfscores = pd.DataFrame(fit.scores_)\n",
    "dfcolumns = pd.DataFrame(X.columns)"
   ]
  },
  {
   "cell_type": "code",
   "execution_count": 20,
   "metadata": {},
   "outputs": [],
   "source": [
    "#concat two dataframes for better visualization \n",
    "featureScores = pd.concat([dfcolumns,dfscores],axis=1)\n",
    "featureScores.columns = ['Specs','Score']  #naming the dataframe columns"
   ]
  },
  {
   "cell_type": "code",
   "execution_count": 21,
   "metadata": {},
   "outputs": [
    {
     "data": {
      "text/html": [
       "<div>\n",
       "<style scoped>\n",
       "    .dataframe tbody tr th:only-of-type {\n",
       "        vertical-align: middle;\n",
       "    }\n",
       "\n",
       "    .dataframe tbody tr th {\n",
       "        vertical-align: top;\n",
       "    }\n",
       "\n",
       "    .dataframe thead th {\n",
       "        text-align: right;\n",
       "    }\n",
       "</style>\n",
       "<table border=\"1\" class=\"dataframe\">\n",
       "  <thead>\n",
       "    <tr style=\"text-align: right;\">\n",
       "      <th></th>\n",
       "      <th>Specs</th>\n",
       "      <th>Score</th>\n",
       "    </tr>\n",
       "  </thead>\n",
       "  <tbody>\n",
       "    <tr>\n",
       "      <th>0</th>\n",
       "      <td>Mean</td>\n",
       "      <td>164.030199</td>\n",
       "    </tr>\n",
       "    <tr>\n",
       "      <th>1</th>\n",
       "      <td>Variance</td>\n",
       "      <td>45365.161287</td>\n",
       "    </tr>\n",
       "    <tr>\n",
       "      <th>2</th>\n",
       "      <td>Standard Deviation</td>\n",
       "      <td>373.614838</td>\n",
       "    </tr>\n",
       "    <tr>\n",
       "      <th>3</th>\n",
       "      <td>Entropy</td>\n",
       "      <td>84.575983</td>\n",
       "    </tr>\n",
       "    <tr>\n",
       "      <th>4</th>\n",
       "      <td>Skewness</td>\n",
       "      <td>655.887206</td>\n",
       "    </tr>\n",
       "    <tr>\n",
       "      <th>5</th>\n",
       "      <td>Kurtosis</td>\n",
       "      <td>18048.323534</td>\n",
       "    </tr>\n",
       "    <tr>\n",
       "      <th>6</th>\n",
       "      <td>Contrast</td>\n",
       "      <td>6971.362867</td>\n",
       "    </tr>\n",
       "    <tr>\n",
       "      <th>7</th>\n",
       "      <td>Energy</td>\n",
       "      <td>126.438492</td>\n",
       "    </tr>\n",
       "    <tr>\n",
       "      <th>8</th>\n",
       "      <td>ASM</td>\n",
       "      <td>68.924244</td>\n",
       "    </tr>\n",
       "    <tr>\n",
       "      <th>9</th>\n",
       "      <td>Homogeneity</td>\n",
       "      <td>49.589138</td>\n",
       "    </tr>\n",
       "    <tr>\n",
       "      <th>10</th>\n",
       "      <td>Dissimilarity</td>\n",
       "      <td>424.381208</td>\n",
       "    </tr>\n",
       "    <tr>\n",
       "      <th>11</th>\n",
       "      <td>Correlation</td>\n",
       "      <td>0.017754</td>\n",
       "    </tr>\n",
       "    <tr>\n",
       "      <th>12</th>\n",
       "      <td>Coarseness</td>\n",
       "      <td>0.000000</td>\n",
       "    </tr>\n",
       "  </tbody>\n",
       "</table>\n",
       "</div>"
      ],
      "text/plain": [
       "                 Specs         Score\n",
       "0                 Mean    164.030199\n",
       "1             Variance  45365.161287\n",
       "2   Standard Deviation    373.614838\n",
       "3              Entropy     84.575983\n",
       "4             Skewness    655.887206\n",
       "5             Kurtosis  18048.323534\n",
       "6             Contrast   6971.362867\n",
       "7               Energy    126.438492\n",
       "8                  ASM     68.924244\n",
       "9          Homogeneity     49.589138\n",
       "10       Dissimilarity    424.381208\n",
       "11         Correlation      0.017754\n",
       "12          Coarseness      0.000000"
      ]
     },
     "execution_count": 21,
     "metadata": {},
     "output_type": "execute_result"
    }
   ],
   "source": [
    "featureScores"
   ]
  },
  {
   "cell_type": "code",
   "execution_count": 22,
   "metadata": {},
   "outputs": [
    {
     "data": {
      "text/plain": [
       "ExtraTreesClassifier()"
      ]
     },
     "execution_count": 22,
     "metadata": {},
     "output_type": "execute_result"
    }
   ],
   "source": [
    "import matplotlib.pyplot as plt\n",
    "model = ExtraTreesClassifier(criterion ='gini')\n",
    "model.fit(X,y)"
   ]
  },
  {
   "cell_type": "code",
   "execution_count": 23,
   "metadata": {},
   "outputs": [
    {
     "name": "stdout",
     "output_type": "stream",
     "text": [
      "[0.01719307 0.01451225 0.01783607 0.24757902 0.04213663 0.02743253\n",
      " 0.00946435 0.22650785 0.19657933 0.1674719  0.02541751 0.00786949\n",
      " 0.        ]\n"
     ]
    }
   ],
   "source": [
    "print(model.feature_importances_) #use inbuilt class feature_importances of tree based classifiers"
   ]
  },
  {
   "cell_type": "code",
   "execution_count": 24,
   "metadata": {},
   "outputs": [
    {
     "data": {
      "image/png": "[encoded data removed]",
      "text/plain": [
       "<Figure size 432x288 with 1 Axes>"
      ]
     },
     "metadata": {
      "needs_background": "light"
     },
     "output_type": "display_data"
    }
   ],
   "source": [
    "#plot graph of feature importances for better visualization\n",
    "feat_importances = pd.Series(model.feature_importances_, index=X.columns)\n",
    "feat_importances.plot(kind='barh')\n",
    "plt.show()"
   ]
  },
  {
   "cell_type": "markdown",
   "metadata": {},
   "source": [
    "### Interpreting from the above two techniques , we come to the conclusion that the 'Coarseness' and 'Correlation' features do not affect the Class in any significant way. Hence we can drop the mentioned features."
   ]
  },
  {
   "cell_type": "code",
   "execution_count": 25,
   "metadata": {},
   "outputs": [],
   "source": [
    "X.drop(['Correlation', 'Coarseness'] , axis=1,inplace=True)"
   ]
  },
  {
   "cell_type": "code",
   "execution_count": 26,
   "metadata": {},
   "outputs": [
    {
     "data": {
      "text/html": [
       "<div>\n",
       "<style scoped>\n",
       "    .dataframe tbody tr th:only-of-type {\n",
       "        vertical-align: middle;\n",
       "    }\n",
       "\n",
       "    .dataframe tbody tr th {\n",
       "        vertical-align: top;\n",
       "    }\n",
       "\n",
       "    .dataframe thead th {\n",
       "        text-align: right;\n",
       "    }\n",
       "</style>\n",
       "<table border=\"1\" class=\"dataframe\">\n",
       "  <thead>\n",
       "    <tr style=\"text-align: right;\">\n",
       "      <th></th>\n",
       "      <th>Mean</th>\n",
       "      <th>Variance</th>\n",
       "      <th>Standard Deviation</th>\n",
       "      <th>Entropy</th>\n",
       "      <th>Skewness</th>\n",
       "      <th>Kurtosis</th>\n",
       "      <th>Contrast</th>\n",
       "      <th>Energy</th>\n",
       "      <th>ASM</th>\n",
       "      <th>Homogeneity</th>\n",
       "      <th>Dissimilarity</th>\n",
       "    </tr>\n",
       "  </thead>\n",
       "  <tbody>\n",
       "    <tr>\n",
       "      <th>1500</th>\n",
       "      <td>3.206360</td>\n",
       "      <td>468.873313</td>\n",
       "      <td>21.653483</td>\n",
       "      <td>0.019710</td>\n",
       "      <td>7.065114</td>\n",
       "      <td>50.908319</td>\n",
       "      <td>241.563131</td>\n",
       "      <td>0.119869</td>\n",
       "      <td>0.014369</td>\n",
       "      <td>0.339681</td>\n",
       "      <td>6.739899</td>\n",
       "    </tr>\n",
       "    <tr>\n",
       "      <th>1501</th>\n",
       "      <td>13.859329</td>\n",
       "      <td>1507.506312</td>\n",
       "      <td>38.826619</td>\n",
       "      <td>0.015143</td>\n",
       "      <td>3.322031</td>\n",
       "      <td>11.674202</td>\n",
       "      <td>193.170732</td>\n",
       "      <td>0.104801</td>\n",
       "      <td>0.010983</td>\n",
       "      <td>0.382412</td>\n",
       "      <td>5.817073</td>\n",
       "    </tr>\n",
       "  </tbody>\n",
       "</table>\n",
       "</div>"
      ],
      "text/plain": [
       "           Mean     Variance  Standard Deviation   Entropy  Skewness  \\\n",
       "1500   3.206360   468.873313           21.653483  0.019710  7.065114   \n",
       "1501  13.859329  1507.506312           38.826619  0.015143  3.322031   \n",
       "\n",
       "       Kurtosis    Contrast    Energy       ASM  Homogeneity  Dissimilarity  \n",
       "1500  50.908319  241.563131  0.119869  0.014369     0.339681       6.739899  \n",
       "1501  11.674202  193.170732  0.104801  0.010983     0.382412       5.817073  "
      ]
     },
     "execution_count": 26,
     "metadata": {},
     "output_type": "execute_result"
    }
   ],
   "source": [
    "X.head(2)"
   ]
  },
  {
   "cell_type": "markdown",
   "metadata": {},
   "source": [
    "### 2. Feature Extraction : Principal Component Analysis"
   ]
  },
  {
   "cell_type": "code",
   "execution_count": 27,
   "metadata": {},
   "outputs": [
    {
     "data": {
      "text/plain": [
       "(2000, 11)"
      ]
     },
     "execution_count": 27,
     "metadata": {},
     "output_type": "execute_result"
    }
   ],
   "source": [
    "X.shape"
   ]
  },
  {
   "cell_type": "code",
   "execution_count": 28,
   "metadata": {},
   "outputs": [],
   "source": [
    "X2 = X.copy()"
   ]
  },
  {
   "cell_type": "code",
   "execution_count": 29,
   "metadata": {},
   "outputs": [],
   "source": [
    "y2 = y.copy()"
   ]
  },
  {
   "cell_type": "code",
   "execution_count": 30,
   "metadata": {},
   "outputs": [],
   "source": [
    "from sklearn.decomposition import PCA\n",
    "plt.style.use('ggplot')\n",
    "scaler = StandardScaler()\n",
    "scaler.fit(X2)\n",
    "X2 = scaler.transform(X2)\n",
    "# The PCA model\n",
    "pca = PCA(n_components=2) # estimate only 2 PCs\n",
    "X_new = pca.fit_transform(X2) # project the original data into the PCA space"
   ]
  },
  {
   "cell_type": "code",
   "execution_count": 31,
   "metadata": {},
   "outputs": [
    {
     "data": {
      "image/png": "[encoded data removed]",
      "text/plain": [
       "<Figure size 432x288 with 2 Axes>"
      ]
     },
     "metadata": {},
     "output_type": "display_data"
    }
   ],
   "source": [
    "fig, axes = plt.subplots(1,2)\n",
    "axes[0].scatter(X2[:,0], X2[:,1], c=y2)\n",
    "axes[0].set_xlabel('x1')\n",
    "axes[0].set_ylabel('x2')\n",
    "axes[0].set_title('Before PCA')\n",
    "axes[1].scatter(X_new[:,0], X_new[:,1], c=y2)\n",
    "axes[1].set_xlabel('PC1')\n",
    "axes[1].set_ylabel('PC2')\n",
    "axes[1].set_title('After PCA')\n",
    "plt.show()"
   ]
  },
  {
   "cell_type": "code",
   "execution_count": 32,
   "metadata": {},
   "outputs": [
    {
     "name": "stdout",
     "output_type": "stream",
     "text": [
      "[0.43818231 0.30624002]\n"
     ]
    }
   ],
   "source": [
    "print(pca.explained_variance_ratio_)"
   ]
  },
  {
   "cell_type": "code",
   "execution_count": 33,
   "metadata": {},
   "outputs": [
    {
     "name": "stdout",
     "output_type": "stream",
     "text": [
      "[[0.04912253 0.1365075  0.12602448 0.41276482 0.2505613  0.18552567\n",
      "  0.18767162 0.42197197 0.40918998 0.43430117 0.35519016]\n",
      " [0.47789575 0.47569246 0.49380531 0.08506547 0.40356977 0.34128778\n",
      "  0.03265844 0.05486158 0.08803873 0.02116564 0.05129762]]\n"
     ]
    }
   ],
   "source": [
    "print(abs( pca.components_ ))"
   ]
  },
  {
   "cell_type": "markdown",
   "metadata": {},
   "source": [
    "### Seeing the feature variance values showing their importances we can say that it would not be advisable to remove any more features as almost all of the 11 features have a very low value so it would become difficult to choose a threshold."
   ]
  },
  {
   "cell_type": "markdown",
   "metadata": {},
   "source": [
    "### Feature Normalization"
   ]
  },
  {
   "cell_type": "code",
   "execution_count": 34,
   "metadata": {},
   "outputs": [],
   "source": [
    "### Holdout Method : Train Test Split\n",
    "X_train, X_test, y_train, y_test = train_test_split(X, y, test_size=0.20, random_state=1)"
   ]
  },
  {
   "cell_type": "code",
   "execution_count": 35,
   "metadata": {},
   "outputs": [
    {
     "data": {
      "text/plain": [
       "(1600, 11)"
      ]
     },
     "execution_count": 35,
     "metadata": {},
     "output_type": "execute_result"
    }
   ],
   "source": [
    "X_train.shape"
   ]
  },
  {
   "cell_type": "code",
   "execution_count": 36,
   "metadata": {},
   "outputs": [
    {
     "data": {
      "text/plain": [
       "(400, 11)"
      ]
     },
     "execution_count": 36,
     "metadata": {},
     "output_type": "execute_result"
    }
   ],
   "source": [
    "X_test.shape"
   ]
  },
  {
   "cell_type": "code",
   "execution_count": 37,
   "metadata": {},
   "outputs": [
    {
     "data": {
      "text/plain": [
       "(1600,)"
      ]
     },
     "execution_count": 37,
     "metadata": {},
     "output_type": "execute_result"
    }
   ],
   "source": [
    "y_train.shape"
   ]
  },
  {
   "cell_type": "code",
   "execution_count": 38,
   "metadata": {},
   "outputs": [
    {
     "data": {
      "text/plain": [
       "(400,)"
      ]
     },
     "execution_count": 38,
     "metadata": {},
     "output_type": "execute_result"
    }
   ],
   "source": [
    "y_test.shape"
   ]
  },
  {
   "cell_type": "code",
   "execution_count": 39,
   "metadata": {},
   "outputs": [],
   "source": [
    "scaler=StandardScaler()\n",
    "### fit vs fit_transform\n",
    "X_train_scaled=pd.DataFrame(scaler.fit_transform(X_train) , columns =X.columns )"
   ]
  },
  {
   "cell_type": "code",
   "execution_count": 40,
   "metadata": {},
   "outputs": [],
   "source": [
    "X_test_scaled=pd.DataFrame(scaler.transform(X_test) , columns =X.columns)"
   ]
  },
  {
   "cell_type": "code",
   "execution_count": 41,
   "metadata": {},
   "outputs": [
    {
     "data": {
      "text/html": [
       "<div>\n",
       "<style scoped>\n",
       "    .dataframe tbody tr th:only-of-type {\n",
       "        vertical-align: middle;\n",
       "    }\n",
       "\n",
       "    .dataframe tbody tr th {\n",
       "        vertical-align: top;\n",
       "    }\n",
       "\n",
       "    .dataframe thead th {\n",
       "        text-align: right;\n",
       "    }\n",
       "</style>\n",
       "<table border=\"1\" class=\"dataframe\">\n",
       "  <thead>\n",
       "    <tr style=\"text-align: right;\">\n",
       "      <th></th>\n",
       "      <th>Mean</th>\n",
       "      <th>Variance</th>\n",
       "      <th>Standard Deviation</th>\n",
       "      <th>Entropy</th>\n",
       "      <th>Skewness</th>\n",
       "      <th>Kurtosis</th>\n",
       "      <th>Contrast</th>\n",
       "      <th>Energy</th>\n",
       "      <th>ASM</th>\n",
       "      <th>Homogeneity</th>\n",
       "      <th>Dissimilarity</th>\n",
       "    </tr>\n",
       "  </thead>\n",
       "  <tbody>\n",
       "    <tr>\n",
       "      <th>0</th>\n",
       "      <td>-1.113501</td>\n",
       "      <td>-0.551708</td>\n",
       "      <td>-0.442242</td>\n",
       "      <td>-0.661552</td>\n",
       "      <td>1.017217</td>\n",
       "      <td>0.363105</td>\n",
       "      <td>1.227790</td>\n",
       "      <td>-0.504985</td>\n",
       "      <td>-0.662079</td>\n",
       "      <td>-0.953940</td>\n",
       "      <td>1.064415</td>\n",
       "    </tr>\n",
       "    <tr>\n",
       "      <th>1</th>\n",
       "      <td>-0.258414</td>\n",
       "      <td>-0.340648</td>\n",
       "      <td>-0.192571</td>\n",
       "      <td>2.361777</td>\n",
       "      <td>-0.313127</td>\n",
       "      <td>-0.228975</td>\n",
       "      <td>-0.552323</td>\n",
       "      <td>1.899091</td>\n",
       "      <td>2.432380</td>\n",
       "      <td>1.668605</td>\n",
       "      <td>-1.244358</td>\n",
       "    </tr>\n",
       "    <tr>\n",
       "      <th>2</th>\n",
       "      <td>0.738369</td>\n",
       "      <td>1.842127</td>\n",
       "      <td>1.645507</td>\n",
       "      <td>-0.949199</td>\n",
       "      <td>-0.244580</td>\n",
       "      <td>-0.202917</td>\n",
       "      <td>-0.036772</td>\n",
       "      <td>-1.186349</td>\n",
       "      <td>-0.919721</td>\n",
       "      <td>-1.529922</td>\n",
       "      <td>1.101538</td>\n",
       "    </tr>\n",
       "    <tr>\n",
       "      <th>3</th>\n",
       "      <td>-0.939068</td>\n",
       "      <td>-0.248552</td>\n",
       "      <td>-0.090580</td>\n",
       "      <td>-0.771359</td>\n",
       "      <td>0.750256</td>\n",
       "      <td>0.220571</td>\n",
       "      <td>1.053385</td>\n",
       "      <td>-0.697260</td>\n",
       "      <td>-0.762489</td>\n",
       "      <td>-0.515826</td>\n",
       "      <td>0.272824</td>\n",
       "    </tr>\n",
       "    <tr>\n",
       "      <th>4</th>\n",
       "      <td>0.265999</td>\n",
       "      <td>-0.289171</td>\n",
       "      <td>-0.135098</td>\n",
       "      <td>0.766022</td>\n",
       "      <td>-0.551154</td>\n",
       "      <td>-0.288294</td>\n",
       "      <td>-0.558672</td>\n",
       "      <td>0.902291</td>\n",
       "      <td>0.736038</td>\n",
       "      <td>0.778804</td>\n",
       "      <td>-0.741771</td>\n",
       "    </tr>\n",
       "  </tbody>\n",
       "</table>\n",
       "</div>"
      ],
      "text/plain": [
       "       Mean  Variance  Standard Deviation   Entropy  Skewness  Kurtosis  \\\n",
       "0 -1.113501 -0.551708           -0.442242 -0.661552  1.017217  0.363105   \n",
       "1 -0.258414 -0.340648           -0.192571  2.361777 -0.313127 -0.228975   \n",
       "2  0.738369  1.842127            1.645507 -0.949199 -0.244580 -0.202917   \n",
       "3 -0.939068 -0.248552           -0.090580 -0.771359  0.750256  0.220571   \n",
       "4  0.265999 -0.289171           -0.135098  0.766022 -0.551154 -0.288294   \n",
       "\n",
       "   Contrast    Energy       ASM  Homogeneity  Dissimilarity  \n",
       "0  1.227790 -0.504985 -0.662079    -0.953940       1.064415  \n",
       "1 -0.552323  1.899091  2.432380     1.668605      -1.244358  \n",
       "2 -0.036772 -1.186349 -0.919721    -1.529922       1.101538  \n",
       "3  1.053385 -0.697260 -0.762489    -0.515826       0.272824  \n",
       "4 -0.558672  0.902291  0.736038     0.778804      -0.741771  "
      ]
     },
     "execution_count": 41,
     "metadata": {},
     "output_type": "execute_result"
    }
   ],
   "source": [
    "X_train_scaled.head()"
   ]
  },
  {
   "cell_type": "code",
   "execution_count": 42,
   "metadata": {},
   "outputs": [
    {
     "data": {
      "text/html": [
       "<div>\n",
       "<style scoped>\n",
       "    .dataframe tbody tr th:only-of-type {\n",
       "        vertical-align: middle;\n",
       "    }\n",
       "\n",
       "    .dataframe tbody tr th {\n",
       "        vertical-align: top;\n",
       "    }\n",
       "\n",
       "    .dataframe thead th {\n",
       "        text-align: right;\n",
       "    }\n",
       "</style>\n",
       "<table border=\"1\" class=\"dataframe\">\n",
       "  <thead>\n",
       "    <tr style=\"text-align: right;\">\n",
       "      <th></th>\n",
       "      <th>Mean</th>\n",
       "      <th>Variance</th>\n",
       "      <th>Standard Deviation</th>\n",
       "      <th>Entropy</th>\n",
       "      <th>Skewness</th>\n",
       "      <th>Kurtosis</th>\n",
       "      <th>Contrast</th>\n",
       "      <th>Energy</th>\n",
       "      <th>ASM</th>\n",
       "      <th>Homogeneity</th>\n",
       "      <th>Dissimilarity</th>\n",
       "    </tr>\n",
       "  </thead>\n",
       "  <tbody>\n",
       "    <tr>\n",
       "      <th>0</th>\n",
       "      <td>0.365294</td>\n",
       "      <td>-0.656539</td>\n",
       "      <td>-0.576217</td>\n",
       "      <td>0.777741</td>\n",
       "      <td>-0.709728</td>\n",
       "      <td>-0.319299</td>\n",
       "      <td>-0.846402</td>\n",
       "      <td>0.909623</td>\n",
       "      <td>0.746377</td>\n",
       "      <td>0.825381</td>\n",
       "      <td>-0.969418</td>\n",
       "    </tr>\n",
       "    <tr>\n",
       "      <th>1</th>\n",
       "      <td>0.245143</td>\n",
       "      <td>0.022278</td>\n",
       "      <td>0.189878</td>\n",
       "      <td>-0.738128</td>\n",
       "      <td>-0.391746</td>\n",
       "      <td>-0.244041</td>\n",
       "      <td>-0.214934</td>\n",
       "      <td>-0.639417</td>\n",
       "      <td>-0.734573</td>\n",
       "      <td>-0.396964</td>\n",
       "      <td>0.024996</td>\n",
       "    </tr>\n",
       "    <tr>\n",
       "      <th>2</th>\n",
       "      <td>-0.475112</td>\n",
       "      <td>0.351709</td>\n",
       "      <td>0.499943</td>\n",
       "      <td>-0.963710</td>\n",
       "      <td>0.274737</td>\n",
       "      <td>-0.010131</td>\n",
       "      <td>0.737790</td>\n",
       "      <td>-1.267968</td>\n",
       "      <td>-0.932236</td>\n",
       "      <td>-1.667170</td>\n",
       "      <td>2.209628</td>\n",
       "    </tr>\n",
       "    <tr>\n",
       "      <th>3</th>\n",
       "      <td>0.398229</td>\n",
       "      <td>2.599485</td>\n",
       "      <td>2.128527</td>\n",
       "      <td>-0.897524</td>\n",
       "      <td>-0.025766</td>\n",
       "      <td>-0.135802</td>\n",
       "      <td>-0.341538</td>\n",
       "      <td>-0.994226</td>\n",
       "      <td>-0.874767</td>\n",
       "      <td>-0.945342</td>\n",
       "      <td>0.369480</td>\n",
       "    </tr>\n",
       "    <tr>\n",
       "      <th>4</th>\n",
       "      <td>-1.207492</td>\n",
       "      <td>-0.844892</td>\n",
       "      <td>-0.838735</td>\n",
       "      <td>-0.923252</td>\n",
       "      <td>1.226260</td>\n",
       "      <td>0.540653</td>\n",
       "      <td>0.439612</td>\n",
       "      <td>-1.079526</td>\n",
       "      <td>-0.897411</td>\n",
       "      <td>-1.521398</td>\n",
       "      <td>2.061715</td>\n",
       "    </tr>\n",
       "  </tbody>\n",
       "</table>\n",
       "</div>"
      ],
      "text/plain": [
       "       Mean  Variance  Standard Deviation   Entropy  Skewness  Kurtosis  \\\n",
       "0  0.365294 -0.656539           -0.576217  0.777741 -0.709728 -0.319299   \n",
       "1  0.245143  0.022278            0.189878 -0.738128 -0.391746 -0.244041   \n",
       "2 -0.475112  0.351709            0.499943 -0.963710  0.274737 -0.010131   \n",
       "3  0.398229  2.599485            2.128527 -0.897524 -0.025766 -0.135802   \n",
       "4 -1.207492 -0.844892           -0.838735 -0.923252  1.226260  0.540653   \n",
       "\n",
       "   Contrast    Energy       ASM  Homogeneity  Dissimilarity  \n",
       "0 -0.846402  0.909623  0.746377     0.825381      -0.969418  \n",
       "1 -0.214934 -0.639417 -0.734573    -0.396964       0.024996  \n",
       "2  0.737790 -1.267968 -0.932236    -1.667170       2.209628  \n",
       "3 -0.341538 -0.994226 -0.874767    -0.945342       0.369480  \n",
       "4  0.439612 -1.079526 -0.897411    -1.521398       2.061715  "
      ]
     },
     "execution_count": 42,
     "metadata": {},
     "output_type": "execute_result"
    }
   ],
   "source": [
    "X_test_scaled.head()"
   ]
  },
  {
   "cell_type": "code",
   "execution_count": 43,
   "metadata": {},
   "outputs": [
    {
     "data": {
      "text/plain": [
       "1500    1\n",
       "2316    0\n",
       "2290    1\n",
       "1861    1\n",
       "2092    0\n",
       "Name: Class, dtype: int64"
      ]
     },
     "execution_count": 43,
     "metadata": {},
     "output_type": "execute_result"
    }
   ],
   "source": [
    "y_train[0:5]"
   ]
  },
  {
   "cell_type": "markdown",
   "metadata": {},
   "source": [
    "## Applying Algorithms on our scaled and transformed data"
   ]
  },
  {
   "cell_type": "markdown",
   "metadata": {},
   "source": [
    "### 1. Naive Bayes Classifier"
   ]
  },
  {
   "cell_type": "code",
   "execution_count": 44,
   "metadata": {},
   "outputs": [
    {
     "name": "stdout",
     "output_type": "stream",
     "text": [
      "              precision    recall  f1-score   support\n",
      "\n",
      "           0       0.94      0.99      0.96       176\n",
      "           1       0.99      0.95      0.97       224\n",
      "\n",
      "    accuracy                           0.96       400\n",
      "   macro avg       0.96      0.97      0.96       400\n",
      "weighted avg       0.97      0.96      0.97       400\n",
      "\n",
      "Naive Bayes Test Accuracy :  96.5 %\n",
      "Training Accuracy:  96.875 %\n",
      "\n",
      "TP Rate :  0.9464285714285714\n",
      "TN Rate :  0.9886363636363636\n",
      "FP Rate :  0.009345794392523364\n",
      "FN Rate :  0.05357142857142857\n",
      "Success Rate:  0.965\n",
      "Misclassifiaction Rate:  0.035\n"
     ]
    },
    {
     "data": {
      "image/png": "[encoded data removed]",
      "text/plain": [
       "<Figure size 432x288 with 2 Axes>"
      ]
     },
     "metadata": {},
     "output_type": "display_data"
    },
    {
     "data": {
      "image/png": "[encoded data removed]",
      "text/plain": [
       "<Figure size 432x288 with 1 Axes>"
      ]
     },
     "metadata": {},
     "output_type": "display_data"
    }
   ],
   "source": [
    "nb = GaussianNB()\n",
    "nb.fit(X_train_scaled, y_train)\n",
    "y_pred_nb = nb.predict(X_test_scaled)\n",
    "\n",
    "print(classification_report(y_test, y_pred_nb))\n",
    "\n",
    "print('Naive Bayes Test Accuracy : ',accuracy_score(y_test, y_pred_nb)*100,'%')\n",
    "print('Training Accuracy: ',accuracy_score(y_train, nb.predict(X_train_scaled))*100,'%')\n",
    "\n",
    "cm_nb = confusion_matrix(y_test, y_pred_nb)\n",
    "\n",
    "group_names = ['True Neg','False Pos','False Neg','True Pos']\n",
    "group_counts = ['{0:0.0f}'.format(value) for value in\n",
    "                cm_nb.flatten()]\n",
    "labels = [f'{v1}\\n{v2}' for v1, v2 in\n",
    "          zip(group_names,group_counts)]\n",
    "labels = np.asarray(labels).reshape(2,2)\n",
    "\n",
    "sns.heatmap(cm_nb,annot=labels,fmt='',cmap = 'Blues')\n",
    "print()\n",
    "\n",
    "TP_nb = cm_nb[1][1]\n",
    "FP_nb = cm_nb[0][1]\n",
    "FN_nb = cm_nb[1][0]\n",
    "TN_nb = cm_nb[0][0] \n",
    "\n",
    "print('TP Rate : ',TP_nb / (TP_nb+FN_nb))\n",
    "print('TN Rate : ', TN_nb/(FP_nb+TN_nb))\n",
    "print('FP Rate : ', FP_nb/(FP_nb+TP_nb))\n",
    "print('FN Rate : ', FN_nb/(FN_nb+TP_nb))\n",
    "print('Success Rate: ', (TP_nb+TN_nb)/(TP_nb+FP_nb+FN_nb+TN_nb))\n",
    "print('Misclassifiaction Rate: ', (FP_nb+FN_nb)/(TP_nb+FP_nb+FN_nb+TN_nb))\n",
    "\n",
    "metrics.plot_roc_curve(nb, X_test_scaled, y_test) \n",
    "plt.title('ROC Curve')\n",
    "plt.show()"
   ]
  },
  {
   "cell_type": "markdown",
   "metadata": {},
   "source": [
    "### 2. K Nearest Neighbours"
   ]
  },
  {
   "cell_type": "code",
   "execution_count": 45,
   "metadata": {},
   "outputs": [
    {
     "data": {
      "image/png": "[encoded data removed]",
      "text/plain": [
       "<Figure size 720x432 with 1 Axes>"
      ]
     },
     "metadata": {},
     "output_type": "display_data"
    },
    {
     "name": "stdout",
     "output_type": "stream",
     "text": [
      "\n",
      "\n",
      "Value of k for which MAE is minimum :  2\n"
     ]
    }
   ],
   "source": [
    "k_min  = 2\n",
    "test_error_rate = []\n",
    "k_array = []\n",
    "MAE = 2\n",
    "\n",
    "for k in range(2,20):\n",
    "    \n",
    "    model = KNeighborsClassifier(n_neighbors=k).fit(X_train_scaled,y_train)\n",
    "    predict_y = model.predict(X_test_scaled)\n",
    "    y_true = y_test\n",
    "    test_MAE = mean_absolute_error(y_true,predict_y)\n",
    "    if test_MAE < MAE:\n",
    "        MAE = test_MAE\n",
    "        k1_min = k\n",
    "    test_error_rate.append(test_MAE)\n",
    "    k_array.append(k)\n",
    "    \n",
    "plt.figure(figsize=(10,6))\n",
    "plt.plot(k_array,test_error_rate,'b',linestyle='dashed',marker='o',\n",
    "         markerfacecolor='red', markersize=4)\n",
    "plt.title('MAE vs k')\n",
    "plt.xlabel('k')\n",
    "plt.ylabel('MAE')\n",
    "plt.show()\n",
    "print('\\n')\n",
    "print(\"Value of k for which MAE is minimum : \",k_min)"
   ]
  },
  {
   "cell_type": "code",
   "execution_count": 46,
   "metadata": {},
   "outputs": [
    {
     "name": "stdout",
     "output_type": "stream",
     "text": [
      "WITH K=2\n",
      "\n",
      "TP Rate :  0.96875\n",
      "TN Rate :  1.0\n",
      "FP Rate :  0.0\n",
      "FN Rate :  0.03125\n",
      "Success Rate:  0.9825\n",
      "Misclassifiaction Rate:  0.0175\n",
      "              precision    recall  f1-score   support\n",
      "\n",
      "           0       0.96      1.00      0.98       176\n",
      "           1       1.00      0.97      0.98       224\n",
      "\n",
      "    accuracy                           0.98       400\n",
      "   macro avg       0.98      0.98      0.98       400\n",
      "weighted avg       0.98      0.98      0.98       400\n",
      "\n",
      "KNN Test Accuracy :  98.25 %\n",
      "Training Accuracy:  98.75 %\n"
     ]
    },
    {
     "data": {
      "image/png": "[encoded data removed]",
      "text/plain": [
       "<Figure size 432x288 with 2 Axes>"
      ]
     },
     "metadata": {},
     "output_type": "display_data"
    },
    {
     "data": {
      "image/png": "[encoded data removed]",
      "text/plain": [
       "<Figure size 432x288 with 1 Axes>"
      ]
     },
     "metadata": {},
     "output_type": "display_data"
    }
   ],
   "source": [
    "# NOW WITH K=2\n",
    "knn = KNeighborsClassifier(n_neighbors=2)\n",
    "\n",
    "knn.fit(X_train_scaled,y_train)\n",
    "pred_knn = knn.predict(X_test_scaled)\n",
    "\n",
    "print('WITH K=2')\n",
    "cm_knn = confusion_matrix(y_test, pred_knn)\n",
    "\n",
    "group_names = ['True Neg','False Pos','False Neg','True Pos']\n",
    "group_counts = ['{0:0.0f}'.format(value) for value in\n",
    "                cm_knn.flatten()]\n",
    "labels = [f'{v1}\\n{v2}' for v1, v2 in\n",
    "          zip(group_names,group_counts)]\n",
    "labels = np.asarray(labels).reshape(2,2)\n",
    "\n",
    "sns.heatmap(cm_knn,annot=labels,fmt='',cmap='Blues')\n",
    "print()\n",
    "\n",
    "TP_knn = cm_knn[1][1]\n",
    "FP_knn = cm_knn[0][1]\n",
    "FN_knn = cm_knn[1][0]\n",
    "TN_knn = cm_knn[0][0] \n",
    "\n",
    "print('TP Rate : ',TP_knn / (TP_knn+FN_knn))\n",
    "print('TN Rate : ', TN_knn/(FP_knn+TN_knn))\n",
    "print('FP Rate : ', FP_knn/(FP_knn+TP_knn))\n",
    "print('FN Rate : ', FN_knn/(FN_knn+TP_knn))\n",
    "print('Success Rate: ', (TP_knn+TN_knn)/(TP_knn+FP_knn+FN_knn+TN_knn))\n",
    "print('Misclassifiaction Rate: ', (FP_knn+FN_knn)/(TP_knn+FP_knn+FN_knn+TN_knn))\n",
    "\n",
    "print(classification_report(y_test,pred_knn))\n",
    "\n",
    "print('KNN Test Accuracy : ',accuracy_score(y_test, pred_knn)*100,'%')\n",
    "print('Training Accuracy: ',accuracy_score(y_train, knn.predict(X_train_scaled))*100,'%')\n",
    "\n",
    "metrics.plot_roc_curve(knn, X_test_scaled, y_test) \n",
    "plt.title('ROC Curve')\n",
    "plt.show()\n",
    "\n",
    "\n"
   ]
  },
  {
   "cell_type": "markdown",
   "metadata": {},
   "source": [
    "### 3. Support Vector Machines"
   ]
  },
  {
   "cell_type": "code",
   "execution_count": 47,
   "metadata": {},
   "outputs": [
    {
     "name": "stderr",
     "output_type": "stream",
     "text": [
      "/root/venv/lib/python3.6/site-packages/seaborn/_decorators.py:43: FutureWarning: Pass the following variables as keyword args: x, y, data. From version 0.12, the only valid positional argument will be `data`, and passing other arguments without an explicit keyword will result in an error or misinterpretation.\n",
      "  FutureWarning\n"
     ]
    },
    {
     "data": {
      "image/png": "[encoded data removed]",
      "text/plain": [
       "<Figure size 720x432 with 1 Axes>"
      ]
     },
     "metadata": {},
     "output_type": "display_data"
    }
   ],
   "source": [
    "sns.lmplot('Mean', 'Contrast', df, hue='Class', fit_reg=False)\n",
    "fig = plt.gcf()\n",
    "fig.set_size_inches(10, 6)\n",
    "plt.show()"
   ]
  },
  {
   "cell_type": "markdown",
   "metadata": {},
   "source": [
    "### Using GridSearchCV for Hyperparameter Tuning for SVC"
   ]
  },
  {
   "cell_type": "code",
   "execution_count": 48,
   "metadata": {},
   "outputs": [
    {
     "name": "stdout",
     "output_type": "stream",
     "text": [
      "{'C': 100, 'gamma': 0.7, 'kernel': 'rbf'}\n"
     ]
    }
   ],
   "source": [
    "classifier=SVC()\n",
    "\n",
    "parameters = [{'C': [0.1, 0.3, 0.5, 0.7, 0.9, 1.0, 1.3, 1.5, 1.7,\n",
    "                     2.0,1, 10, 100, 1000], 'kernel': ['linear']},\n",
    "              \n",
    "              {'C': [0.1, 0.3, 0.5, 0.7, 0.9, 1.0, 1.3, 1.5, 1.7,\n",
    "                     2.0,1, 10, 100, 1000], 'kernel': ['rbf'],\n",
    "               'gamma': [0.1, 0.2, 0.3, 0.4, 0.5, 0.6, 0.7, 0.8, 0.9]},\n",
    "              \n",
    "              {'C': [0.1, 0.3, 0.5, 0.7, 0.9, 1.0, 1.3, 1.5, 1.7,\n",
    "                     2.0,1, 10, 100, 1000], 'kernel': ['poly']}]\n",
    "kfold = KFold(n_splits=10, random_state=21,shuffle=True)\n",
    "grid_search = GridSearchCV(estimator = classifier,\n",
    "                           param_grid = parameters,\n",
    "                           scoring = 'accuracy',\n",
    "                           cv = kfold,\n",
    "                           n_jobs = -1)\n",
    "grid_search = grid_search.fit(X_train_scaled, y_train)\n",
    "print(grid_search.best_params_)"
   ]
  },
  {
   "cell_type": "code",
   "execution_count": 49,
   "metadata": {},
   "outputs": [
    {
     "name": "stdout",
     "output_type": "stream",
     "text": [
      "\n",
      "TP Rate :  0.9821428571428571\n",
      "TN Rate :  0.9943181818181818\n",
      "FP Rate :  0.004524886877828055\n",
      "FN Rate :  0.017857142857142856\n",
      "Success Rate:  0.9875\n",
      "Misclassifiaction Rate:  0.0125\n",
      "              precision    recall  f1-score   support\n",
      "\n",
      "           0       0.98      0.99      0.99       176\n",
      "           1       1.00      0.98      0.99       224\n",
      "\n",
      "    accuracy                           0.99       400\n",
      "   macro avg       0.99      0.99      0.99       400\n",
      "weighted avg       0.99      0.99      0.99       400\n",
      "\n",
      "SVC Test Accuracy :  98.75 %\n",
      "Training Accuracy:  99.5625 %\n"
     ]
    },
    {
     "data": {
      "image/png": "[encoded data removed]",
      "text/plain": [
       "<Figure size 432x288 with 2 Axes>"
      ]
     },
     "metadata": {},
     "output_type": "display_data"
    },
    {
     "data": {
      "image/png": "[encoded data removed]",
      "text/plain": [
       "<Figure size 432x288 with 1 Axes>"
      ]
     },
     "metadata": {},
     "output_type": "display_data"
    }
   ],
   "source": [
    "classifier_svc = SVC(kernel = 'rbf',C = 100,gamma=0.1)\n",
    "classifier_svc.fit(X_train_scaled, y_train)\n",
    "y_pred_svc = classifier_svc.predict(X_test_scaled)\n",
    "\n",
    "cm_svc = confusion_matrix(y_test, y_pred_svc)\n",
    "group_names = ['True Neg','False Pos','False Neg','True Pos']\n",
    "group_counts = ['{0:0.0f}'.format(value) for value in\n",
    "                cm_svc.flatten()]\n",
    "labels = [f'{v1}\\n{v2}' for v1, v2 in\n",
    "          zip(group_names,group_counts)]\n",
    "labels = np.asarray(labels).reshape(2,2)\n",
    "\n",
    "sns.heatmap(cm_svc,annot=labels,fmt='',cmap='Blues')\n",
    "print()\n",
    "\n",
    "TP_svc = cm_svc[1][1]\n",
    "FP_svc = cm_svc[0][1]\n",
    "FN_svc = cm_svc[1][0]\n",
    "TN_svc = cm_svc[0][0] \n",
    "\n",
    "print('TP Rate : ',TP_svc / (TP_svc+FN_svc))\n",
    "print('TN Rate : ', TN_svc/(FP_svc+TN_svc))\n",
    "print('FP Rate : ', FP_svc/(FP_svc+TP_svc))\n",
    "print('FN Rate : ', FN_svc/(FN_svc+TP_svc))\n",
    "print('Success Rate: ', (TP_svc+TN_svc)/(TP_svc+FP_svc+FN_svc+TN_svc))\n",
    "print('Misclassifiaction Rate: ', (FP_svc+FN_svc)/(TP_svc+FP_svc+FN_svc+TN_svc))\n",
    "\n",
    "print(classification_report(y_test,y_pred_svc))\n",
    "\n",
    "print('SVC Test Accuracy : ',accuracy_score(y_test, y_pred_svc)*100,'%')\n",
    "print('Training Accuracy: ',accuracy_score(y_train, classifier_svc.predict(X_train_scaled))*100,'%')\n",
    "\n",
    "metrics.plot_roc_curve(classifier_svc, X_test_scaled, y_test) \n",
    "plt.title('ROC Curve')\n",
    "plt.show()"
   ]
  },
  {
   "cell_type": "markdown",
   "metadata": {},
   "source": [
    "### 4. Building A Neural Network"
   ]
  },
  {
   "cell_type": "markdown",
   "metadata": {},
   "source": [
    "There are many rule-of-thumb methods for determining the correct number of neurons to use in the hidden layers, such as the following:\n",
    "\n",
    "The number of hidden neurons should be between the size of the input layer and the size of the output layer.\n",
    "The number of hidden neurons should be 2/3 the size of the input layer, plus the size of the output layer.\n",
    "The number of hidden neurons should be less than twice the size of the input layer."
   ]
  },
  {
   "cell_type": "code",
   "execution_count": 50,
   "metadata": {},
   "outputs": [
    {
     "name": "stdout",
     "output_type": "stream",
     "text": [
      "Epoch 1/50\n",
      "20/20 [==============================] - 2s 25ms/step - loss: 0.6843 - accuracy: 0.5656 - val_loss: 0.6048 - val_accuracy: 0.8625\n",
      "Epoch 2/50\n",
      "20/20 [==============================] - 0s 5ms/step - loss: 0.5762 - accuracy: 0.8109 - val_loss: 0.5041 - val_accuracy: 0.9281\n",
      "Epoch 3/50\n",
      "20/20 [==============================] - 0s 5ms/step - loss: 0.4928 - accuracy: 0.8883 - val_loss: 0.4234 - val_accuracy: 0.9563\n",
      "Epoch 4/50\n",
      "20/20 [==============================] - 0s 5ms/step - loss: 0.4210 - accuracy: 0.9406 - val_loss: 0.3588 - val_accuracy: 0.9594\n",
      "Epoch 5/50\n",
      "20/20 [==============================] - 0s 5ms/step - loss: 0.3611 - accuracy: 0.9500 - val_loss: 0.3061 - val_accuracy: 0.9656\n",
      "Epoch 6/50\n",
      "20/20 [==============================] - 0s 6ms/step - loss: 0.3180 - accuracy: 0.9539 - val_loss: 0.2627 - val_accuracy: 0.9656\n",
      "Epoch 7/50\n",
      "20/20 [==============================] - 0s 5ms/step - loss: 0.2760 - accuracy: 0.9609 - val_loss: 0.2272 - val_accuracy: 0.9656\n",
      "Epoch 8/50\n",
      "20/20 [==============================] - 0s 5ms/step - loss: 0.2428 - accuracy: 0.9664 - val_loss: 0.1980 - val_accuracy: 0.9688\n",
      "Epoch 9/50\n",
      "20/20 [==============================] - 0s 6ms/step - loss: 0.2174 - accuracy: 0.9625 - val_loss: 0.1745 - val_accuracy: 0.9688\n",
      "Epoch 10/50\n",
      "20/20 [==============================] - 0s 6ms/step - loss: 0.2023 - accuracy: 0.9617 - val_loss: 0.1554 - val_accuracy: 0.9750\n",
      "Epoch 11/50\n",
      "20/20 [==============================] - 0s 6ms/step - loss: 0.1773 - accuracy: 0.9656 - val_loss: 0.1398 - val_accuracy: 0.9750\n",
      "Epoch 12/50\n",
      "20/20 [==============================] - 0s 7ms/step - loss: 0.1680 - accuracy: 0.9656 - val_loss: 0.1269 - val_accuracy: 0.9750\n",
      "Epoch 13/50\n",
      "20/20 [==============================] - 0s 9ms/step - loss: 0.1582 - accuracy: 0.9680 - val_loss: 0.1167 - val_accuracy: 0.9750\n",
      "Epoch 14/50\n",
      "20/20 [==============================] - 0s 8ms/step - loss: 0.1440 - accuracy: 0.9680 - val_loss: 0.1079 - val_accuracy: 0.9781\n",
      "Epoch 15/50\n",
      "20/20 [==============================] - 0s 8ms/step - loss: 0.1291 - accuracy: 0.9742 - val_loss: 0.1013 - val_accuracy: 0.9781\n",
      "Epoch 16/50\n",
      "20/20 [==============================] - 0s 6ms/step - loss: 0.1238 - accuracy: 0.9688 - val_loss: 0.0950 - val_accuracy: 0.9781\n",
      "Epoch 17/50\n",
      "20/20 [==============================] - 0s 6ms/step - loss: 0.1187 - accuracy: 0.9727 - val_loss: 0.0903 - val_accuracy: 0.9781\n",
      "Epoch 18/50\n",
      "20/20 [==============================] - 0s 6ms/step - loss: 0.1186 - accuracy: 0.9695 - val_loss: 0.0860 - val_accuracy: 0.9781\n",
      "Epoch 19/50\n",
      "20/20 [==============================] - 0s 7ms/step - loss: 0.1115 - accuracy: 0.9727 - val_loss: 0.0825 - val_accuracy: 0.9781\n",
      "Epoch 20/50\n",
      "20/20 [==============================] - 0s 10ms/step - loss: 0.1073 - accuracy: 0.9734 - val_loss: 0.0792 - val_accuracy: 0.9781\n",
      "Epoch 21/50\n",
      "20/20 [==============================] - 0s 9ms/step - loss: 0.1051 - accuracy: 0.9727 - val_loss: 0.0766 - val_accuracy: 0.9781\n",
      "Epoch 22/50\n",
      "20/20 [==============================] - 0s 8ms/step - loss: 0.1029 - accuracy: 0.9734 - val_loss: 0.0744 - val_accuracy: 0.9781\n",
      "Epoch 23/50\n",
      "20/20 [==============================] - 0s 8ms/step - loss: 0.0976 - accuracy: 0.9711 - val_loss: 0.0723 - val_accuracy: 0.9781\n",
      "Epoch 24/50\n",
      "20/20 [==============================] - 0s 8ms/step - loss: 0.0971 - accuracy: 0.9758 - val_loss: 0.0707 - val_accuracy: 0.9781\n",
      "Epoch 25/50\n",
      "20/20 [==============================] - 0s 8ms/step - loss: 0.0969 - accuracy: 0.9750 - val_loss: 0.0697 - val_accuracy: 0.9781\n",
      "Epoch 26/50\n",
      "20/20 [==============================] - 0s 9ms/step - loss: 0.0946 - accuracy: 0.9727 - val_loss: 0.0682 - val_accuracy: 0.9781\n",
      "Epoch 27/50\n",
      "20/20 [==============================] - 0s 9ms/step - loss: 0.0873 - accuracy: 0.9703 - val_loss: 0.0668 - val_accuracy: 0.9781\n",
      "Epoch 28/50\n",
      "20/20 [==============================] - 0s 11ms/step - loss: 0.0937 - accuracy: 0.9734 - val_loss: 0.0658 - val_accuracy: 0.9781\n",
      "Epoch 29/50\n",
      "20/20 [==============================] - 0s 7ms/step - loss: 0.0888 - accuracy: 0.9758 - val_loss: 0.0650 - val_accuracy: 0.9781\n",
      "Epoch 30/50\n",
      "20/20 [==============================] - 0s 5ms/step - loss: 0.0871 - accuracy: 0.9742 - val_loss: 0.0640 - val_accuracy: 0.9781\n",
      "Epoch 31/50\n",
      "20/20 [==============================] - 0s 6ms/step - loss: 0.0899 - accuracy: 0.9703 - val_loss: 0.0632 - val_accuracy: 0.9781\n",
      "Epoch 32/50\n",
      "20/20 [==============================] - 0s 10ms/step - loss: 0.0836 - accuracy: 0.9727 - val_loss: 0.0625 - val_accuracy: 0.9781\n",
      "Epoch 33/50\n",
      "20/20 [==============================] - 0s 4ms/step - loss: 0.0860 - accuracy: 0.9711 - val_loss: 0.0618 - val_accuracy: 0.9781\n",
      "Epoch 34/50\n",
      "20/20 [==============================] - 0s 6ms/step - loss: 0.0841 - accuracy: 0.9727 - val_loss: 0.0612 - val_accuracy: 0.9812\n",
      "Epoch 35/50\n",
      "20/20 [==============================] - 0s 6ms/step - loss: 0.0828 - accuracy: 0.9758 - val_loss: 0.0609 - val_accuracy: 0.9781\n",
      "Epoch 36/50\n",
      "20/20 [==============================] - 0s 6ms/step - loss: 0.0874 - accuracy: 0.9719 - val_loss: 0.0600 - val_accuracy: 0.9812\n",
      "Epoch 37/50\n",
      "20/20 [==============================] - 0s 6ms/step - loss: 0.0810 - accuracy: 0.9750 - val_loss: 0.0597 - val_accuracy: 0.9812\n",
      "Epoch 38/50\n",
      "20/20 [==============================] - 0s 8ms/step - loss: 0.0796 - accuracy: 0.9734 - val_loss: 0.0592 - val_accuracy: 0.9812\n",
      "Epoch 39/50\n",
      "20/20 [==============================] - 0s 8ms/step - loss: 0.0862 - accuracy: 0.9758 - val_loss: 0.0589 - val_accuracy: 0.9812\n",
      "Epoch 40/50\n",
      "20/20 [==============================] - 0s 8ms/step - loss: 0.0806 - accuracy: 0.9750 - val_loss: 0.0585 - val_accuracy: 0.9812\n",
      "Epoch 41/50\n",
      "20/20 [==============================] - 0s 8ms/step - loss: 0.0844 - accuracy: 0.9742 - val_loss: 0.0581 - val_accuracy: 0.9812\n",
      "Epoch 42/50\n",
      "20/20 [==============================] - 0s 8ms/step - loss: 0.0718 - accuracy: 0.9773 - val_loss: 0.0577 - val_accuracy: 0.9812\n",
      "Epoch 43/50\n",
      "20/20 [==============================] - 0s 8ms/step - loss: 0.0779 - accuracy: 0.9781 - val_loss: 0.0575 - val_accuracy: 0.9812\n",
      "Epoch 44/50\n",
      "20/20 [==============================] - 0s 7ms/step - loss: 0.0744 - accuracy: 0.9789 - val_loss: 0.0576 - val_accuracy: 0.9812\n",
      "Epoch 45/50\n",
      "20/20 [==============================] - 0s 7ms/step - loss: 0.0814 - accuracy: 0.9719 - val_loss: 0.0574 - val_accuracy: 0.9812\n",
      "Epoch 46/50\n",
      "20/20 [==============================] - 0s 9ms/step - loss: 0.0788 - accuracy: 0.9727 - val_loss: 0.0571 - val_accuracy: 0.9812\n",
      "Epoch 47/50\n",
      "20/20 [==============================] - 0s 5ms/step - loss: 0.0768 - accuracy: 0.9727 - val_loss: 0.0571 - val_accuracy: 0.9812\n",
      "Epoch 48/50\n",
      "20/20 [==============================] - 0s 3ms/step - loss: 0.0769 - accuracy: 0.9734 - val_loss: 0.0568 - val_accuracy: 0.9812\n",
      "Epoch 49/50\n",
      "20/20 [==============================] - 0s 3ms/step - loss: 0.0736 - accuracy: 0.9781 - val_loss: 0.0566 - val_accuracy: 0.9812\n",
      "Epoch 50/50\n",
      "20/20 [==============================] - 0s 3ms/step - loss: 0.0782 - accuracy: 0.9742 - val_loss: 0.0562 - val_accuracy: 0.9812\n"
     ]
    }
   ],
   "source": [
    "model = Sequential()\n",
    "\n",
    "input_dim = X_train_scaled.shape[1]\n",
    "\n",
    "#add input layer \n",
    "model.add(Dense(units =256, activation = 'relu', input_dim = input_dim))\n",
    "model.add(Dropout(0.4))\n",
    "\n",
    "# hidden layer\n",
    "model.add(Dense(units =75,activation = 'relu'))\n",
    "model.add(Dropout(0.4))\n",
    "\n",
    "#output layer\n",
    "model.add(Dense(units = 1, activation = 'sigmoid'))\n",
    "\n",
    "opt = keras.optimizers.Adam(learning_rate=0.0001)\n",
    "\n",
    "model.compile(optimizer = opt , loss ='binary_crossentropy', metrics = ['accuracy'])\n",
    "\n",
    "model_history = model.fit(X_train_scaled, y_train,validation_split=0.20, batch_size = 64, epochs = 50)"
   ]
  },
  {
   "cell_type": "code",
   "execution_count": 51,
   "metadata": {},
   "outputs": [
    {
     "name": "stdout",
     "output_type": "stream",
     "text": [
      "\n",
      "TP Rate :  0.9821428571428571\n",
      "TN Rate :  0.9829545454545454\n",
      "FP Rate :  0.013452914798206279\n",
      "FN Rate :  0.017857142857142856\n",
      "Success Rate:  0.9825\n",
      "Misclassifiaction Rate:  0.0175\n",
      "              precision    recall  f1-score   support\n",
      "\n",
      "           0       0.98      0.98      0.98       176\n",
      "           1       0.99      0.98      0.98       224\n",
      "\n",
      "    accuracy                           0.98       400\n",
      "   macro avg       0.98      0.98      0.98       400\n",
      "weighted avg       0.98      0.98      0.98       400\n",
      "\n",
      "Neural Network Test Accuracy :  98.25 %\n"
     ]
    },
    {
     "data": {
      "image/png": "[encoded data removed]",
      "text/plain": [
       "<Figure size 432x288 with 2 Axes>"
      ]
     },
     "metadata": {},
     "output_type": "display_data"
    }
   ],
   "source": [
    "y_pred_nn = model.predict(X_test_scaled)\n",
    "y_pred_nn = (y_pred_nn > 0.5)\n",
    "\n",
    "cm_nn = confusion_matrix(y_test, y_pred_nn)\n",
    "group_names = ['True Neg','False Pos','False Neg','True Pos']\n",
    "group_counts = ['{0:0.0f}'.format(value) for value in\n",
    "                cm_nn.flatten()]\n",
    "labels = [f'{v1}\\n{v2}' for v1, v2 in\n",
    "          zip(group_names,group_counts)]\n",
    "labels = np.asarray(labels).reshape(2,2)\n",
    "\n",
    "sns.heatmap(cm_nn,annot=labels,fmt='',cmap='Blues')\n",
    "print()\n",
    "\n",
    "\n",
    "TP_nn = cm_nn[1][1]\n",
    "FP_nn = cm_nn[0][1]\n",
    "FN_nn = cm_nn[1][0]\n",
    "TN_nn = cm_nn[0][0] \n",
    "\n",
    "print('TP Rate : ',TP_nn / (TP_nn+FN_nn))\n",
    "print('TN Rate : ', TN_nn/(FP_nn+TN_nn))\n",
    "print('FP Rate : ', FP_nn/(FP_nn+TP_nn))\n",
    "print('FN Rate : ', FN_nn/(FN_nn+TP_nn))\n",
    "print('Success Rate: ', (TP_nn+TN_nn)/(TP_nn+FP_nn+FN_nn+TN_nn))\n",
    "print('Misclassifiaction Rate: ', (FP_nn+FN_nn)/(TP_nn+FP_nn+FN_nn+TN_nn))\n",
    "\n",
    "print(classification_report(y_test,y_pred_nn))\n",
    "\n",
    "print('Neural Network Test Accuracy : ',accuracy_score(y_test, y_pred_nn)*100,'%')\n"
   ]
  },
  {
   "cell_type": "code",
   "execution_count": 52,
   "metadata": {},
   "outputs": [
    {
     "name": "stdout",
     "output_type": "stream",
     "text": [
      "dict_keys(['loss', 'accuracy', 'val_loss', 'val_accuracy'])\n"
     ]
    }
   ],
   "source": [
    "print(model_history.history.keys())"
   ]
  },
  {
   "cell_type": "code",
   "execution_count": 53,
   "metadata": {},
   "outputs": [
    {
     "data": {
      "image/png": "[encoded data removed]",
      "text/plain": [
       "<Figure size 432x288 with 1 Axes>"
      ]
     },
     "metadata": {},
     "output_type": "display_data"
    },
    {
     "data": {
      "image/png": "[encoded data removed]",
      "text/plain": [
       "<Figure size 432x288 with 1 Axes>"
      ]
     },
     "metadata": {},
     "output_type": "display_data"
    }
   ],
   "source": [
    "# summarize history for accuracy\n",
    "plt.plot(model_history.history['accuracy'])\n",
    "plt.plot(model_history.history['val_accuracy'])\n",
    "plt.title('model accuracy')\n",
    "plt.ylabel('accuracy')\n",
    "plt.xlabel('epoch')\n",
    "plt.legend(['train', 'test'], loc='upper left')\n",
    "plt.show()\n",
    "\n",
    "# summarize history for loss\n",
    "plt.plot(model_history.history['loss'])\n",
    "plt.plot(model_history.history['val_loss'])\n",
    "plt.title('model loss')\n",
    "plt.ylabel('loss')\n",
    "plt.xlabel('epoch')\n",
    "plt.legend(['train', 'test'], loc='upper left')\n",
    "plt.show()"
   ]
  },
  {
   "cell_type": "markdown",
   "metadata": {},
   "source": [
    "### 5. Decision Tree Classifier"
   ]
  },
  {
   "cell_type": "code",
   "execution_count": 54,
   "metadata": {},
   "outputs": [],
   "source": [
    "tree = DecisionTreeClassifier(criterion='gini' ,random_state = 1)\n",
    "tree.fit(X_train_scaled , y_train)\n",
    "y_train_pred = tree.predict(X_train_scaled)\n",
    "y_test_pred = tree.predict(X_test_scaled)"
   ]
  },
  {
   "cell_type": "code",
   "execution_count": 55,
   "metadata": {},
   "outputs": [
    {
     "name": "stdout",
     "output_type": "stream",
     "text": [
      "1.0 0.97\n"
     ]
    }
   ],
   "source": [
    "print(accuracy_score(y_train,y_train_pred) , round(accuracy_score(y_test,y_test_pred),2))"
   ]
  },
  {
   "cell_type": "markdown",
   "metadata": {},
   "source": [
    "### Hyperparameter Tuning Using GridSearchCV\n"
   ]
  },
  {
   "cell_type": "code",
   "execution_count": 56,
   "metadata": {},
   "outputs": [
    {
     "data": {
      "text/plain": [
       "GridSearchCV(cv=KFold(n_splits=10, random_state=21, shuffle=True),\n",
       "             estimator=DecisionTreeClassifier(random_state=1), n_jobs=-1,\n",
       "             param_grid={'criterion': ['gini', 'entropy'],\n",
       "                         'max_depth': [1, 2, 3, 4, 5, 6, 7, 8, 9, 10, None],\n",
       "                         'min_samples_split': [10, 20, 50, 80, 100, 200, 300,\n",
       "                                               500]})"
      ]
     },
     "execution_count": 56,
     "metadata": {},
     "output_type": "execute_result"
    }
   ],
   "source": [
    "param_dist = {\n",
    "    \"criterion\" : [\"gini\" , \"entropy\"] , \n",
    "    \"max_depth\" : [1,2,3,4,5,6,7,8,9,10,None] , \n",
    "    \"min_samples_split\" : [10,20,50,80,100,200,300,500]\n",
    "}\n",
    "kfold = KFold(n_splits=10, random_state=21,shuffle=True)\n",
    "grid_dt = GridSearchCV(tree , param_grid = param_dist , cv=kfold , n_jobs=-1)\n",
    "grid_dt.fit(X_train_scaled,y_train)"
   ]
  },
  {
   "cell_type": "code",
   "execution_count": 57,
   "metadata": {},
   "outputs": [
    {
     "data": {
      "text/plain": [
       "{'criterion': 'entropy', 'max_depth': 3, 'min_samples_split': 10}"
      ]
     },
     "execution_count": 57,
     "metadata": {},
     "output_type": "execute_result"
    }
   ],
   "source": [
    "grid_dt.best_params_"
   ]
  },
  {
   "cell_type": "code",
   "execution_count": 58,
   "metadata": {},
   "outputs": [
    {
     "name": "stdout",
     "output_type": "stream",
     "text": [
      "TP Rate :  0.9732142857142857\n",
      "TN Rate :  0.9772727272727273\n",
      "FP Rate :  0.018018018018018018\n",
      "FN Rate :  0.026785714285714284\n",
      "Success Rate:  0.975\n",
      "Misclassifiaction Rate:  0.025\n",
      "              precision    recall  f1-score   support\n",
      "\n",
      "           0       0.97      0.98      0.97       176\n",
      "           1       0.98      0.97      0.98       224\n",
      "\n",
      "    accuracy                           0.97       400\n",
      "   macro avg       0.97      0.98      0.97       400\n",
      "weighted avg       0.98      0.97      0.98       400\n",
      "\n",
      "Decision Tree Test Accuracy :  97.5 %\n",
      "Training Accuracy:  98.8125 %\n"
     ]
    },
    {
     "data": {
      "image/png": "[encoded data removed]",
      "text/plain": [
       "<Figure size 360x216 with 2 Axes>"
      ]
     },
     "metadata": {},
     "output_type": "display_data"
    },
    {
     "data": {
      "image/png": "[encoded data removed]",
      "text/plain": [
       "<Figure size 360x216 with 1 Axes>"
      ]
     },
     "metadata": {},
     "output_type": "display_data"
    }
   ],
   "source": [
    "rcParams['figure.figsize'] = 5,3\n",
    "tree2 = DecisionTreeClassifier(criterion='gini', max_depth= 6 , min_samples_split=10)\n",
    "tree2.fit(X_train_scaled , y_train)\n",
    "y_pred_dt = tree2.predict(X_test_scaled)\n",
    "\n",
    "cm_dt = confusion_matrix(y_test, y_pred_dt)\n",
    "group_names = ['True Neg','False Pos','False Neg','True Pos']\n",
    "group_counts = ['{0:0.0f}'.format(value) for value in\n",
    "                cm_dt.flatten()]\n",
    "labels = [f'{v1}\\n{v2}' for v1, v2 in\n",
    "          zip(group_names,group_counts)]\n",
    "labels = np.asarray(labels).reshape(2,2)\n",
    "sns.heatmap(cm_dt,annot=labels,fmt='',cmap='Blues')\n",
    "\n",
    "TP_dt = cm_dt[1][1]\n",
    "FP_dt = cm_dt[0][1]\n",
    "FN_dt = cm_dt[1][0]\n",
    "TN_dt = cm_dt[0][0] \n",
    "\n",
    "print('TP Rate : ',TP_dt / (TP_dt+FN_dt))\n",
    "print('TN Rate : ', TN_dt/(FP_dt+TN_dt))\n",
    "print('FP Rate : ', FP_dt/(FP_dt+TP_dt))\n",
    "print('FN Rate : ', FN_dt/(FN_dt+TP_dt))\n",
    "print('Success Rate: ', (TP_dt+TN_dt)/(TP_dt+FP_dt+FN_dt+TN_dt))\n",
    "print('Misclassifiaction Rate: ', (FP_dt+FN_dt)/(TP_dt+FP_dt+FN_dt+TN_dt))\n",
    "\n",
    "print(classification_report(y_test,y_pred_dt))\n",
    "\n",
    "print('Decision Tree Test Accuracy : ',accuracy_score(y_test, y_pred_dt)*100,'%')\n",
    "print('Training Accuracy: ',accuracy_score(y_train, tree2.predict(X_train_scaled))*100,'%')\n",
    "\n",
    "metrics.plot_roc_curve(tree2, X_test_scaled, y_test) \n",
    "plt.title('ROC Curve')\n",
    "plt.show()"
   ]
  },
  {
   "cell_type": "markdown",
   "metadata": {},
   "source": [
    "### 6. Tree Ensembles"
   ]
  },
  {
   "cell_type": "markdown",
   "metadata": {},
   "source": [
    "### 6.1 Bagging"
   ]
  },
  {
   "cell_type": "code",
   "execution_count": 59,
   "metadata": {},
   "outputs": [
    {
     "name": "stdout",
     "output_type": "stream",
     "text": [
      "OOB Score without hyperparameter tuning :  98.5 %\n"
     ]
    }
   ],
   "source": [
    "bag = BaggingClassifier(\n",
    "    base_estimator=DecisionTreeClassifier(),\n",
    "    max_features=0.5,\n",
    "    n_estimators=50,\n",
    "    max_samples=0.5,\n",
    "    bootstrap=True,\n",
    "    oob_score=True,\n",
    ")\n",
    "bag.fit(X_train_scaled,y_train)\n",
    "print('OOB Score without hyperparameter tuning : ',(bag.oob_score_)*100,'%')"
   ]
  },
  {
   "cell_type": "code",
   "execution_count": 60,
   "metadata": {},
   "outputs": [
    {
     "name": "stdout",
     "output_type": "stream",
     "text": [
      "Fitting 10 folds for each of 150 candidates, totalling 1500 fits\n"
     ]
    },
    {
     "name": "stderr",
     "output_type": "stream",
     "text": [
      "[Parallel(n_jobs=-1)]: Using backend LokyBackend with 8 concurrent workers.\n",
      "[Parallel(n_jobs=-1)]: Done  34 tasks      | elapsed:    6.0s\n",
      "[Parallel(n_jobs=-1)]: Done 184 tasks      | elapsed:   40.8s\n",
      "[Parallel(n_jobs=-1)]: Done 434 tasks      | elapsed:  1.7min\n",
      "[Parallel(n_jobs=-1)]: Done 784 tasks      | elapsed:  3.3min\n",
      "[Parallel(n_jobs=-1)]: Done 1500 out of 1500 | elapsed:  3.4min finished\n"
     ]
    },
    {
     "data": {
      "text/plain": [
       "{'bootstrap': True,\n",
       " 'max_features': 0.7,\n",
       " 'max_samples': 0.7,\n",
       " 'n_estimators': 50}"
      ]
     },
     "execution_count": 60,
     "metadata": {},
     "output_type": "execute_result"
    }
   ],
   "source": [
    "parameters = {\n",
    "    'n_estimators': [50,100,500], \n",
    "    'max_samples': [0.1,0.2,0.4,0.7,1.0],\n",
    "    'bootstrap' : [True,False],\n",
    "    'max_features' : [0.1,0.2,0.4,0.7,1.0]\n",
    "    }\n",
    "kfold = KFold(n_splits=10, random_state=21,shuffle=True)\n",
    "search = GridSearchCV(bag, parameters, cv=kfold,verbose = 1 , n_jobs=-1)\n",
    "search.fit(X_train_scaled,y_train)\n",
    "search.best_params_"
   ]
  },
  {
   "cell_type": "code",
   "execution_count": 61,
   "metadata": {},
   "outputs": [
    {
     "name": "stdout",
     "output_type": "stream",
     "text": [
      "OOB Score with hyperparameter tuning :  98.1875 %\n",
      "\n",
      "TP Rate :  0.9821428571428571\n",
      "TN Rate :  0.9943181818181818\n",
      "FP Rate :  0.004524886877828055\n",
      "FN Rate :  0.017857142857142856\n",
      "Success Rate:  0.9875\n",
      "Misclassifiaction Rate:  0.0125\n",
      "              precision    recall  f1-score   support\n",
      "\n",
      "           0       0.98      0.99      0.99       176\n",
      "           1       1.00      0.98      0.99       224\n",
      "\n",
      "    accuracy                           0.99       400\n",
      "   macro avg       0.99      0.99      0.99       400\n",
      "weighted avg       0.99      0.99      0.99       400\n",
      "\n",
      "Bagging Test Accuracy :  98.75 %\n",
      "Training Accuracy:  100.0 %\n"
     ]
    },
    {
     "data": {
      "image/png": "[encoded data removed]",
      "text/plain": [
       "<Figure size 360x216 with 2 Axes>"
      ]
     },
     "metadata": {},
     "output_type": "display_data"
    },
    {
     "data": {
      "image/png": "[encoded data removed]",
      "text/plain": [
       "<Figure size 360x216 with 1 Axes>"
      ]
     },
     "metadata": {},
     "output_type": "display_data"
    }
   ],
   "source": [
    "bag2 = BaggingClassifier(\n",
    "    base_estimator=DecisionTreeClassifier(),\n",
    "    max_features=0.4,\n",
    "    n_estimators=500,\n",
    "    max_samples=1.0,\n",
    "    bootstrap=True,\n",
    "    oob_score=True,\n",
    ")\n",
    "\n",
    "bag2.fit(X_train_scaled,y_train)\n",
    "y_pred_bag = bag2.predict(X_test_scaled)\n",
    "print('OOB Score with hyperparameter tuning : ',(bag2.oob_score_)*100,'%')\n",
    "\n",
    "cm_bag = confusion_matrix(y_test, y_pred_bag)\n",
    "group_names = ['True Neg','False Pos','False Neg','True Pos']\n",
    "group_counts = ['{0:0.0f}'.format(value) for value in\n",
    "                cm_bag.flatten()]\n",
    "labels = [f'{v1}\\n{v2}' for v1, v2 in\n",
    "          zip(group_names,group_counts)]\n",
    "labels = np.asarray(labels).reshape(2,2)\n",
    "sns.heatmap(cm_bag,annot=labels,fmt='',cmap='Blues')\n",
    "print()\n",
    "\n",
    "TP_bag = cm_bag[1][1]\n",
    "FP_bag = cm_bag[0][1]\n",
    "FN_bag = cm_bag[1][0]\n",
    "TN_bag = cm_bag[0][0] \n",
    "\n",
    "print('TP Rate : ',TP_bag / (TP_bag+FN_bag))\n",
    "print('TN Rate : ', TN_bag/(FP_bag+TN_bag))\n",
    "print('FP Rate : ', FP_bag/(FP_bag+TP_bag))\n",
    "print('FN Rate : ', FN_bag/(FN_bag+TP_bag))\n",
    "print('Success Rate: ', (TP_bag+TN_bag)/(TP_bag+FP_bag+FN_bag+TN_bag))\n",
    "print('Misclassifiaction Rate: ', (FP_bag+FN_bag)/(TP_bag+FP_bag+FN_bag+TN_bag))\n",
    "\n",
    "print(classification_report(y_test, y_pred_bag))\n",
    "\n",
    "print('Bagging Test Accuracy : ',accuracy_score(y_test, y_pred_bag)*100,'%')\n",
    "print('Training Accuracy: ',accuracy_score(y_train, bag2.predict(X_train_scaled))*100,'%')\n",
    "\n",
    "metrics.plot_roc_curve(bag2, X_test_scaled, y_test) \n",
    "plt.title('ROC Curve')\n",
    "plt.show()"
   ]
  },
  {
   "cell_type": "markdown",
   "metadata": {},
   "source": [
    "### 6.2 Random Forest"
   ]
  },
  {
   "cell_type": "code",
   "execution_count": 62,
   "metadata": {},
   "outputs": [
    {
     "name": "stdout",
     "output_type": "stream",
     "text": [
      "99.4375 98.0\n"
     ]
    }
   ],
   "source": [
    "rf = RandomForestClassifier(bootstrap = True ,\n",
    "                            n_estimators = 50,\n",
    "                            max_features = 0.5,\n",
    "                            criterion='entropy', \n",
    "                            max_depth= None, \n",
    "                            min_samples_split=10)\n",
    "rf.fit(X_train_scaled , y_train)\n",
    "y_train_pred_rf = rf.predict(X_train_scaled)\n",
    "y_test_pred_rf = rf.predict(X_test_scaled)\n",
    "\n",
    "print(accuracy_score(y_train,y_train_pred_rf)*100 , round(accuracy_score(y_test,y_test_pred_rf),2)*100)"
   ]
  },
  {
   "cell_type": "code",
   "execution_count": 65,
   "metadata": {},
   "outputs": [
    {
     "name": "stdout",
     "output_type": "stream",
     "text": [
      "Fitting 5 folds for each of 5280 candidates, totalling 26400 fits\n"
     ]
    },
    {
     "name": "stderr",
     "output_type": "stream",
     "text": [
      "[Parallel(n_jobs=-1)]: Using backend LokyBackend with 8 concurrent workers.\n",
      "[Parallel(n_jobs=-1)]: Done  34 tasks      | elapsed:    2.7s\n",
      "[Parallel(n_jobs=-1)]: Done 184 tasks      | elapsed:   14.5s\n",
      "[Parallel(n_jobs=-1)]: Done 434 tasks      | elapsed:   36.9s\n",
      "[Parallel(n_jobs=-1)]: Done 784 tasks      | elapsed:  1.2min\n",
      "[Parallel(n_jobs=-1)]: Done 1234 tasks      | elapsed:  2.0min\n",
      "[Parallel(n_jobs=-1)]: Done 1784 tasks      | elapsed:  3.1min\n",
      "[Parallel(n_jobs=-1)]: Done 2434 tasks      | elapsed:  4.3min\n",
      "[Parallel(n_jobs=-1)]: Done 3184 tasks      | elapsed:  5.8min\n",
      "[Parallel(n_jobs=-1)]: Done 4034 tasks      | elapsed:  7.6min\n",
      "[Parallel(n_jobs=-1)]: Done 4984 tasks      | elapsed:  9.7min\n",
      "[Parallel(n_jobs=-1)]: Done 6034 tasks      | elapsed: 12.1min\n",
      "[Parallel(n_jobs=-1)]: Done 7184 tasks      | elapsed: 14.3min\n",
      "[Parallel(n_jobs=-1)]: Done 8434 tasks      | elapsed: 17.2min\n",
      "[Parallel(n_jobs=-1)]: Done 9784 tasks      | elapsed: 20.6min\n",
      "[Parallel(n_jobs=-1)]: Done 11234 tasks      | elapsed: 24.3min\n",
      "[Parallel(n_jobs=-1)]: Done 12784 tasks      | elapsed: 28.3min\n",
      "[Parallel(n_jobs=-1)]: Done 14434 tasks      | elapsed: 31.5min\n",
      "[Parallel(n_jobs=-1)]: Done 16184 tasks      | elapsed: 35.5min\n",
      "[Parallel(n_jobs=-1)]: Done 18034 tasks      | elapsed: 40.3min\n",
      "[Parallel(n_jobs=-1)]: Done 19984 tasks      | elapsed: 43.9min\n",
      "[Parallel(n_jobs=-1)]: Done 22034 tasks      | elapsed: 47.9min\n",
      "[Parallel(n_jobs=-1)]: Done 24184 tasks      | elapsed: 53.4min\n",
      "[Parallel(n_jobs=-1)]: Done 26400 out of 26400 | elapsed: 59.4min finished\n"
     ]
    },
    {
     "data": {
      "text/plain": [
       "GridSearchCV(cv=5,\n",
       "             estimator=RandomForestClassifier(criterion='entropy',\n",
       "                                              max_features=0.5,\n",
       "                                              min_samples_split=10,\n",
       "                                              n_estimators=50),\n",
       "             n_jobs=-1,\n",
       "             param_grid={'bootstrap': [True, False],\n",
       "                         'criterion': ['gini', 'entropy'],\n",
       "                         'max_depth': [1, 2, 3, 4, 5, 6, 7, 8, 9, 10, None],\n",
       "                         'max_features': [0.1, 0.2, 0.4, 0.7, 1.0],\n",
       "                         'min_samples_split': [10, 20, 50, 80, 100, 200, 300,\n",
       "                                               500],\n",
       "                         'n_estimators': [50, 100, 200]},\n",
       "             verbose=1)"
      ]
     },
     "execution_count": 65,
     "metadata": {},
     "output_type": "execute_result"
    }
   ],
   "source": [
    "rf_params = {\n",
    "    'n_estimators': [50,100,200],\n",
    "    \"max_depth\": [1,2,3,4,5,6,7,8,9,10,None],\n",
    "    \"min_samples_split\" : [10,20,50,80,100,200,300,500],\n",
    "    'bootstrap' : [True,False],\n",
    "    'max_features' : [0.1,0.2,0.4,0.7,1.0],\n",
    "    'criterion' : ['gini','entropy']\n",
    "    \n",
    "}\n",
    "\n",
    "search_rf = GridSearchCV(rf, rf_params, cv=5,verbose = 1 , n_jobs=-1)\n",
    "search_rf.fit(X_train_scaled,y_train)"
   ]
  },
  {
   "cell_type": "code",
   "execution_count": 66,
   "metadata": {},
   "outputs": [
    {
     "data": {
      "text/plain": [
       "{'bootstrap': False,\n",
       " 'criterion': 'entropy',\n",
       " 'max_depth': 8,\n",
       " 'max_features': 0.4,\n",
       " 'min_samples_split': 10,\n",
       " 'n_estimators': 200}"
      ]
     },
     "execution_count": 66,
     "metadata": {},
     "output_type": "execute_result"
    }
   ],
   "source": [
    "search_rf.best_params_"
   ]
  },
  {
   "cell_type": "code",
   "execution_count": 67,
   "metadata": {},
   "outputs": [
    {
     "name": "stdout",
     "output_type": "stream",
     "text": [
      "\n",
      "TP Rate :  0.9776785714285714\n",
      "TN Rate :  0.9943181818181818\n",
      "FP Rate :  0.004545454545454545\n",
      "FN Rate :  0.022321428571428572\n",
      "Success Rate:  0.985\n",
      "Misclassifiaction Rate:  0.015\n",
      "              precision    recall  f1-score   support\n",
      "\n",
      "           0       0.97      0.99      0.98       176\n",
      "           1       1.00      0.98      0.99       224\n",
      "\n",
      "    accuracy                           0.98       400\n",
      "   macro avg       0.98      0.99      0.98       400\n",
      "weighted avg       0.99      0.98      0.99       400\n",
      "\n",
      "OOB Score with hyperparameter tuning :  98.375 %\n",
      "Random Forest Test Accuracy :  98.5 %\n",
      "Training Accuracy:  99.5625 %\n"
     ]
    },
    {
     "data": {
      "image/png": "[encoded data removed]",
      "text/plain": [
       "<Figure size 360x216 with 2 Axes>"
      ]
     },
     "metadata": {},
     "output_type": "display_data"
    },
    {
     "data": {
      "image/png": "[encoded data removed]",
      "text/plain": [
       "<Figure size 360x216 with 1 Axes>"
      ]
     },
     "metadata": {},
     "output_type": "display_data"
    }
   ],
   "source": [
    "rf2 = RandomForestClassifier(bootstrap = True ,\n",
    "                             oob_score=True,\n",
    "                            n_estimators = 100,\n",
    "                            max_features = 0.7,\n",
    "                            criterion='entropy', \n",
    "                            max_depth= 9, \n",
    "                            min_samples_split=10)\n",
    "rf2.fit(X_train_scaled , y_train)\n",
    "y_train_pred_rf2 = rf2.predict(X_train_scaled)\n",
    "y_test_pred_rf2 = rf2.predict(X_test_scaled)\n",
    "\n",
    "cm_rf = confusion_matrix(y_test, y_test_pred_rf2)\n",
    "group_names = ['True Neg','False Pos','False Neg','True Pos']\n",
    "group_counts = ['{0:0.0f}'.format(value) for value in\n",
    "                cm_rf.flatten()]\n",
    "labels = [f'{v1}\\n{v2}' for v1, v2 in\n",
    "          zip(group_names,group_counts)]\n",
    "labels = np.asarray(labels).reshape(2,2)\n",
    "sns.heatmap(cm_rf,annot=labels,fmt='',cmap='Blues')\n",
    "print()\n",
    "\n",
    "TP_rf = cm_rf[1][1]\n",
    "FP_rf = cm_rf[0][1]\n",
    "FN_rf = cm_rf[1][0]\n",
    "TN_rf = cm_rf[0][0] \n",
    "\n",
    "print('TP Rate : ',TP_rf / (TP_rf+FN_rf))\n",
    "print('TN Rate : ', TN_rf/(FP_rf+TN_rf))\n",
    "print('FP Rate : ', FP_rf/(FP_rf+TP_rf))\n",
    "print('FN Rate : ', FN_rf/(FN_rf+TP_rf))\n",
    "print('Success Rate: ', (TP_rf+TN_rf)/(TP_rf+FP_rf+FN_rf+TN_rf))\n",
    "print('Misclassifiaction Rate: ', (FP_rf+FN_rf)/(TP_rf+FP_rf+FN_rf+TN_rf))\n",
    "\n",
    "print(classification_report(y_test, y_test_pred_rf2))\n",
    "\n",
    "print('OOB Score with hyperparameter tuning : ',(rf2.oob_score_)*100,'%')\n",
    "print('Random Forest Test Accuracy : ',accuracy_score(y_test, y_test_pred_rf2)*100,'%')\n",
    "print('Training Accuracy: ',accuracy_score(y_train, rf2.predict(X_train_scaled))*100,'%')\n",
    "\n",
    "metrics.plot_roc_curve(rf2, X_test_scaled, y_test) \n",
    "plt.title('ROC Curve')\n",
    "plt.show()"
   ]
  },
  {
   "cell_type": "markdown",
   "metadata": {},
   "source": [
    "### 6.3 Boosting"
   ]
  },
  {
   "cell_type": "markdown",
   "metadata": {},
   "source": [
    "#### 6.3.1 AdaBoost"
   ]
  },
  {
   "cell_type": "code",
   "execution_count": 68,
   "metadata": {},
   "outputs": [
    {
     "name": "stdout",
     "output_type": "stream",
     "text": [
      "Train Accuracy - : 1.000\n",
      "Test Accuracy - : 0.970\n"
     ]
    }
   ],
   "source": [
    "ada = AdaBoostClassifier(DecisionTreeClassifier(),n_estimators=100, random_state=42)\n",
    "ada.fit(X_train_scaled,y_train)\n",
    "\n",
    "print (f'Train Accuracy - : {ada.score(X_train_scaled,y_train):.3f}')\n",
    "print (f'Test Accuracy - : {ada.score(X_test_scaled,y_test):.3f}')"
   ]
  },
  {
   "cell_type": "code",
   "execution_count": 69,
   "metadata": {},
   "outputs": [
    {
     "name": "stdout",
     "output_type": "stream",
     "text": [
      "Fitting 10 folds for each of 10 candidates, totalling 100 fits\n"
     ]
    },
    {
     "name": "stderr",
     "output_type": "stream",
     "text": [
      "[Parallel(n_jobs=-1)]: Using backend LokyBackend with 8 concurrent workers.\n"
     ]
    },
    {
     "name": "stdout",
     "output_type": "stream",
     "text": [
      "{'random_state': 40, 'n_estimators': 200, 'learning_rate': 0.2}\n"
     ]
    },
    {
     "name": "stderr",
     "output_type": "stream",
     "text": [
      "[Parallel(n_jobs=-1)]: Done  56 tasks      | elapsed:    0.5s\n",
      "[Parallel(n_jobs=-1)]: Done  85 out of 100 | elapsed:    0.6s remaining:    0.1s\n",
      "[Parallel(n_jobs=-1)]: Done 100 out of 100 | elapsed:    0.6s finished\n"
     ]
    }
   ],
   "source": [
    "ada_params = {\n",
    "    'n_estimators': [50,100,200],\n",
    "    'learning_rate' : [0.1,0.01,0.001,0.2,0.3,0.4,0.5],\n",
    "    'random_state' : [0,20,40]\n",
    "    }\n",
    "kfold = KFold(n_splits=10, random_state=21,shuffle=True)\n",
    "ada_cv = RandomizedSearchCV(ada, ada_params, cv=kfold , verbose=1,n_jobs=-1)\n",
    "ada_cv.fit(X_train_scaled,y_train)\n",
    "print(ada_cv.best_params_)"
   ]
  },
  {
   "cell_type": "code",
   "execution_count": 70,
   "metadata": {},
   "outputs": [
    {
     "name": "stdout",
     "output_type": "stream",
     "text": [
      "\n",
      "TP Rate :  0.9821428571428571\n",
      "TN Rate :  0.9659090909090909\n",
      "FP Rate :  0.02654867256637168\n",
      "FN Rate :  0.017857142857142856\n",
      "Success Rate:  0.975\n",
      "Misclassifiaction Rate:  0.025\n",
      "              precision    recall  f1-score   support\n",
      "\n",
      "           0       0.98      0.97      0.97       176\n",
      "           1       0.97      0.98      0.98       224\n",
      "\n",
      "    accuracy                           0.97       400\n",
      "   macro avg       0.98      0.97      0.97       400\n",
      "weighted avg       0.98      0.97      0.97       400\n",
      "\n",
      "Random Forest Test Accuracy :  97.5 %\n",
      "Training Accuracy:  100.0 %\n"
     ]
    },
    {
     "data": {
      "image/png": "[encoded data removed]",
      "text/plain": [
       "<Figure size 360x216 with 2 Axes>"
      ]
     },
     "metadata": {},
     "output_type": "display_data"
    },
    {
     "data": {
      "image/png": "[encoded data removed]",
      "text/plain": [
       "<Figure size 360x216 with 1 Axes>"
      ]
     },
     "metadata": {},
     "output_type": "display_data"
    }
   ],
   "source": [
    "ada2 = AdaBoostClassifier(ada,n_estimators=200, random_state=0,learning_rate=0.5)\n",
    "ada2.fit(X_train_scaled,y_train)\n",
    "y_pred_ada = ada2.predict(X_test_scaled)\n",
    "cm_ab = confusion_matrix(y_test, y_pred_ada)\n",
    "group_names = ['True Neg','False Pos','False Neg','True Pos']\n",
    "group_counts = ['{0:0.0f}'.format(value) for value in\n",
    "                cm_ab.flatten()]\n",
    "labels = [f'{v1}\\n{v2}' for v1, v2 in\n",
    "          zip(group_names,group_counts)]\n",
    "labels = np.asarray(labels).reshape(2,2)\n",
    "sns.heatmap(cm_ab,annot=labels,fmt='',cmap='Blues')\n",
    "print()\n",
    "\n",
    "TP_ab = cm_ab[1][1]\n",
    "FP_ab = cm_ab[0][1]\n",
    "FN_ab = cm_ab[1][0]\n",
    "TN_ab = cm_ab[0][0] \n",
    "\n",
    "print('TP Rate : ',TP_ab / (TP_ab+FN_ab))\n",
    "print('TN Rate : ', TN_ab/(FP_ab+TN_ab))\n",
    "print('FP Rate : ', FP_ab/(FP_ab+TP_ab))\n",
    "print('FN Rate : ', FN_ab/(FN_ab+TP_ab))\n",
    "print('Success Rate: ', (TP_ab+TN_ab)/(TP_ab+FP_ab+FN_ab+TN_ab))\n",
    "print('Misclassifiaction Rate: ', (FP_ab+FN_ab)/(TP_ab+FP_ab+FN_ab+TN_ab))\n",
    "print(classification_report(y_test, y_pred_ada))\n",
    "\n",
    "print('Random Forest Test Accuracy : ',accuracy_score(y_test, y_pred_ada)*100,'%')\n",
    "print('Training Accuracy: ',accuracy_score(y_train, ada2.predict(X_train_scaled))*100,'%')\n",
    "\n",
    "metrics.plot_roc_curve(ada2, X_test_scaled, y_test) \n",
    "plt.title('ROC Curve')\n",
    "plt.show()"
   ]
  },
  {
   "cell_type": "markdown",
   "metadata": {},
   "source": [
    "### 7. Logistic Regression"
   ]
  },
  {
   "cell_type": "code",
   "execution_count": 71,
   "metadata": {},
   "outputs": [
    {
     "name": "stdout",
     "output_type": "stream",
     "text": [
      "Fitting 10 folds for each of 12 candidates, totalling 120 fits\n"
     ]
    },
    {
     "name": "stderr",
     "output_type": "stream",
     "text": [
      "[Parallel(n_jobs=-1)]: Using backend LokyBackend with 8 concurrent workers.\n",
      "[Parallel(n_jobs=-1)]: Done  56 tasks      | elapsed:    0.4s\n",
      "[Parallel(n_jobs=-1)]: Done 120 out of 120 | elapsed:    0.7s finished\n"
     ]
    },
    {
     "data": {
      "text/plain": [
       "{'C': 10, 'penalty': 'l2'}"
      ]
     },
     "execution_count": 71,
     "metadata": {},
     "output_type": "execute_result"
    }
   ],
   "source": [
    "lr_clf = LogisticRegression()\n",
    "\n",
    "param_grid = {\n",
    "    'penalty' : ['l1' , 'l2'],\n",
    "    'C' : [1,10,100,0.1,0.01,0.001]\n",
    "}\n",
    "grid_lr_clf = GridSearchCV(estimator=lr_clf,param_grid=param_grid,scoring='accuracy',verbose=1,n_jobs=-1,cv=kfold)\n",
    "grid_lr_clf.fit(X_train_scaled,y_train)\n",
    "\n",
    "grid_lr_clf.best_params_"
   ]
  },
  {
   "cell_type": "code",
   "execution_count": 72,
   "metadata": {},
   "outputs": [
    {
     "name": "stdout",
     "output_type": "stream",
     "text": [
      "\n",
      "TP Rate :  0.9910714285714286\n",
      "TN Rate :  0.9829545454545454\n",
      "FP Rate :  0.013333333333333334\n",
      "FN Rate :  0.008928571428571428\n",
      "Success Rate:  0.9875\n",
      "Misclassifiaction Rate:  0.0125\n",
      "              precision    recall  f1-score   support\n",
      "\n",
      "           0       0.99      0.98      0.99       176\n",
      "           1       0.99      0.99      0.99       224\n",
      "\n",
      "    accuracy                           0.99       400\n",
      "   macro avg       0.99      0.99      0.99       400\n",
      "weighted avg       0.99      0.99      0.99       400\n",
      "\n",
      "Logistic Regression Test Accuracy :  98.75 %\n",
      "Training Accuracy:  98.375 %\n"
     ]
    },
    {
     "data": {
      "image/png": "[encoded data removed]",
      "text/plain": [
       "<Figure size 360x216 with 2 Axes>"
      ]
     },
     "metadata": {},
     "output_type": "display_data"
    },
    {
     "data": {
      "image/png": "[encoded data removed]",
      "text/plain": [
       "<Figure size 360x216 with 1 Axes>"
      ]
     },
     "metadata": {},
     "output_type": "display_data"
    }
   ],
   "source": [
    "lr_clf2 = LogisticRegression(C = 10 , penalty='l2',random_state=0)\n",
    "lr_clf2.fit(X_train_scaled,y_train)\n",
    "y_pred_lr = lr_clf2.predict(X_test_scaled)\n",
    "\n",
    "cm_lr = confusion_matrix(y_test, y_pred_lr)\n",
    "group_names = ['True Neg','False Pos','False Neg','True Pos']\n",
    "group_counts = ['{0:0.0f}'.format(value) for value in\n",
    "                cm_lr.flatten()]\n",
    "labels = [f'{v1}\\n{v2}' for v1, v2 in\n",
    "          zip(group_names,group_counts)]\n",
    "labels = np.asarray(labels).reshape(2,2)\n",
    "sns.heatmap(cm_lr,annot=labels,fmt='',cmap='Blues')\n",
    "print()\n",
    "\n",
    "TP_lr = cm_lr[1][1]\n",
    "FP_lr = cm_lr[0][1]\n",
    "FN_lr = cm_lr[1][0]\n",
    "TN_lr = cm_lr[0][0] \n",
    "\n",
    "print('TP Rate : ',TP_lr / (TP_lr+FN_lr))\n",
    "print('TN Rate : ', TN_lr/(FP_lr+TN_lr))\n",
    "print('FP Rate : ', FP_lr/(FP_lr+TP_lr))\n",
    "print('FN Rate : ', FN_lr/(FN_lr+TP_lr))\n",
    "print('Success Rate: ', (TP_lr+TN_lr)/(TP_lr+FP_lr+FN_lr+TN_lr))\n",
    "print('Misclassifiaction Rate: ', (FP_lr+FN_lr)/(TP_lr+FP_lr+FN_lr+TN_lr))\n",
    "\n",
    "print(classification_report(y_test, y_pred_lr))\n",
    "\n",
    "\n",
    "print('Logistic Regression Test Accuracy : ',accuracy_score(y_test, y_pred_lr)*100,'%')\n",
    "print('Training Accuracy: ',accuracy_score(y_train, lr_clf2.predict(X_train_scaled))*100,'%')\n",
    "\n",
    "metrics.plot_roc_curve(lr_clf2, X_test_scaled, y_test) \n",
    "plt.title('ROC Curve')\n",
    "plt.show()"
   ]
  },
  {
   "cell_type": "code",
   "execution_count": 73,
   "metadata": {},
   "outputs": [
    {
     "data": {
      "text/html": [
       "<div>\n",
       "<style scoped>\n",
       "    .dataframe tbody tr th:only-of-type {\n",
       "        vertical-align: middle;\n",
       "    }\n",
       "\n",
       "    .dataframe tbody tr th {\n",
       "        vertical-align: top;\n",
       "    }\n",
       "\n",
       "    .dataframe thead th {\n",
       "        text-align: right;\n",
       "    }\n",
       "</style>\n",
       "<table border=\"1\" class=\"dataframe\">\n",
       "  <thead>\n",
       "    <tr style=\"text-align: right;\">\n",
       "      <th></th>\n",
       "      <th>Non-Tumor (0)</th>\n",
       "      <th>Tumor (1)</th>\n",
       "    </tr>\n",
       "  </thead>\n",
       "  <tbody>\n",
       "    <tr>\n",
       "      <th>0</th>\n",
       "      <td>9.998530e-01</td>\n",
       "      <td>0.000147</td>\n",
       "    </tr>\n",
       "    <tr>\n",
       "      <th>1</th>\n",
       "      <td>7.862644e-04</td>\n",
       "      <td>0.999214</td>\n",
       "    </tr>\n",
       "    <tr>\n",
       "      <th>2</th>\n",
       "      <td>3.993410e-08</td>\n",
       "      <td>1.000000</td>\n",
       "    </tr>\n",
       "    <tr>\n",
       "      <th>3</th>\n",
       "      <td>2.222902e-08</td>\n",
       "      <td>1.000000</td>\n",
       "    </tr>\n",
       "    <tr>\n",
       "      <th>4</th>\n",
       "      <td>5.100249e-10</td>\n",
       "      <td>1.000000</td>\n",
       "    </tr>\n",
       "  </tbody>\n",
       "</table>\n",
       "</div>"
      ],
      "text/plain": [
       "   Non-Tumor (0)  Tumor (1)\n",
       "0   9.998530e-01   0.000147\n",
       "1   7.862644e-04   0.999214\n",
       "2   3.993410e-08   1.000000\n",
       "3   2.222902e-08   1.000000\n",
       "4   5.100249e-10   1.000000"
      ]
     },
     "execution_count": 73,
     "metadata": {},
     "output_type": "execute_result"
    }
   ],
   "source": [
    "y_pred_prob = lr_clf2.predict_proba(X_test_scaled)[0:10]\n",
    "y_pred_prob_df = pd.DataFrame(data=y_pred_prob, columns=['Non-Tumor (0)', 'Tumor (1)'])\n",
    "\n",
    "y_pred_prob_df.head()"
   ]
  },
  {
   "cell_type": "code",
   "execution_count": 74,
   "metadata": {},
   "outputs": [
    {
     "data": {
      "text/plain": [
       "Text(0, 0.5, 'Frequency')"
      ]
     },
     "execution_count": 74,
     "metadata": {},
     "output_type": "execute_result"
    },
    {
     "data": {
      "image/png": "[encoded data removed]",
      "text/plain": [
       "<Figure size 360x216 with 1 Axes>"
      ]
     },
     "metadata": {},
     "output_type": "display_data"
    }
   ],
   "source": [
    "y_pred1 = lr_clf2.predict_proba(X_test_scaled)[:, 1]\n",
    "plt.rcParams['font.size'] = 12\n",
    "plt.hist(y_pred1, bins = 10)\n",
    "\n",
    "plt.title('Histogram of predicted probabilities of Tumor')\n",
    "\n",
    "plt.xlim(0,1)\n",
    "\n",
    "plt.xlabel('Predicted probabilities of Tumor')\n",
    "plt.ylabel('Frequency')"
   ]
  },
  {
   "cell_type": "code",
   "execution_count": null,
   "metadata": {},
   "outputs": [],
   "source": []
  },
  {
   "cell_type": "code",
   "execution_count": null,
   "metadata": {},
   "outputs": [],
   "source": []
  },
  {
   "cell_type": "code",
   "execution_count": null,
   "metadata": {},
   "outputs": [],
   "source": []
  },
  {
   "cell_type": "code",
   "execution_count": null,
   "metadata": {},
   "outputs": [],
   "source": []
  },
  {
   "cell_type": "code",
   "execution_count": null,
   "metadata": {},
   "outputs": [],
   "source": []
  },
  {
   "cell_type": "code",
   "execution_count": null,
   "metadata": {},
   "outputs": [],
   "source": []
  },
  {
   "cell_type": "code",
   "execution_count": null,
   "metadata": {},
   "outputs": [],
   "source": []
  },
  {
   "cell_type": "code",
   "execution_count": null,
   "metadata": {},
   "outputs": [],
   "source": []
  },
  {
   "cell_type": "code",
   "execution_count": null,
   "metadata": {},
   "outputs": [],
   "source": []
  },
  {
   "cell_type": "code",
   "execution_count": null,
   "metadata": {},
   "outputs": [],
   "source": []
  },
  {
   "cell_type": "code",
   "execution_count": null,
   "metadata": {},
   "outputs": [],
   "source": []
  },
  {
   "cell_type": "code",
   "execution_count": null,
   "metadata": {},
   "outputs": [],
   "source": []
  },
  {
   "cell_type": "code",
   "execution_count": null,
   "metadata": {},
   "outputs": [],
   "source": []
  },
  {
   "cell_type": "code",
   "execution_count": null,
   "metadata": {},
   "outputs": [],
   "source": []
  },
  {
   "cell_type": "code",
   "execution_count": null,
   "metadata": {},
   "outputs": [],
   "source": []
  },
  {
   "cell_type": "code",
   "execution_count": null,
   "metadata": {},
   "outputs": [],
   "source": []
  }
 ],
 "metadata": {
  "kernelspec": {
   "display_name": "Python 3",
   "language": "python",
   "name": "python3"
  },
  "language_info": {
   "codemirror_mode": {
    "name": "ipython",
    "version": 3
   },
   "file_extension": ".py",
   "mimetype": "text/x-python",
   "name": "python",
   "nbconvert_exporter": "python",
   "pygments_lexer": "ipython3",
   "version": "3.6.9"
  }
 },
 "nbformat": 4,
 "nbformat_minor": 4
}
